{
  "cells": [
    {
      "cell_type": "markdown",
      "metadata": {
        "id": "Qh4Ctd61F4wg"
      },
      "source": [
        "### import required libraries"
      ]
    },
    {
      "cell_type": "code",
      "execution_count": null,
      "metadata": {
        "id": "Sxb3nLuzF4wl"
      },
      "outputs": [],
      "source": [
        "# This is used to import required libraries\n",
        "import pandas as pd\n",
        "\n",
        "import numpy as np"
      ]
    },
    {
      "cell_type": "code",
      "execution_count": null,
      "metadata": {
        "colab": {
          "base_uri": "https://localhost:8080/"
        },
        "id": "SLSRHuVoF4wo",
        "outputId": "c1958f50-aad2-4e86-b064-44f6e3e8a106"
      },
      "outputs": [],
      "source": [
        "#this is needed to grant colab access to google drive.\n",
        "#it is important because when access is granted, files can be loaded directly from drive to colab notebook without needing to download and install\n",
        "#files everytime colab is used, since it is only a virtual IDE.\n",
        "from google.colab import drive\n",
        "drive.mount('/content/drive')"
      ]
    },
    {
      "cell_type": "code",
      "execution_count": null,
      "metadata": {
        "id": "f9rrrUkuVNCM"
      },
      "outputs": [],
      "source": [
        "import zipfile\n",
        "import os\n",
        "\n",
        "# the code snippet helps Unzip the uploaded file making it explorable to colab\n",
        "with zipfile.ZipFile('/content/drive/My Drive/Colab Notebooks/colab_libs/bert-base-uncased.zip', 'r') as zip_ref:\n",
        "    zip_ref.extractall('/content/drive/My Drive/Colab Notebooks/colab_libs/bert-base-uncased')"
      ]
    },
    {
      "cell_type": "code",
      "execution_count": null,
      "metadata": {
        "colab": {
          "base_uri": "https://localhost:8080/",
          "height": 293
        },
        "id": "y79TlXBsNLYK",
        "outputId": "8c671867-28d9-4bc7-bd29-c6890a11abcb"
      },
      "outputs": [
        {
          "data": {
            "application/vnd.google.colaboratory.intrinsic+json": {
              "summary": "{\n  \"name\": \"df\",\n  \"rows\": 2048,\n  \"fields\": [\n    {\n      \"column\": \"date\",\n      \"properties\": {\n        \"dtype\": \"object\",\n        \"num_unique_values\": 921,\n        \"samples\": [\n          \"19-Sep-22\",\n          \"5-Sep-23\",\n          \"7-Oct-24\"\n        ],\n        \"semantic_type\": \"\",\n        \"description\": \"\"\n      }\n    },\n    {\n      \"column\": \"title\",\n      \"properties\": {\n        \"dtype\": \"string\",\n        \"num_unique_values\": 2029,\n        \"samples\": [\n          \"Picture of bedridden ex-footballer in wheelchair, not Peter Rufai\",\n          \"Liverpool yet to sign new contract with Salah, contrary to Facebook user\\u2019s claim\",\n          \"Can helicopter rides be ordered via Uber in Dubai?\"\n        ],\n        \"semantic_type\": \"\",\n        \"description\": \"\"\n      }\n    },\n    {\n      \"column\": \"verdict\",\n      \"properties\": {\n        \"dtype\": \"string\",\n        \"num_unique_values\": 1523,\n        \"samples\": [\n          \"Verdict: FALSE! Reliable medical journals and medical experts establish no existing evidence for the assertion.\",\n          \"There is no sufficient evidence that the home remedies mentioned could cure head lice but they are believed to be rather dangerous to human health.\",\n          \"This year, we witnessed some ridiculous claims relating to men\\u2019s health, and this article highlights them below:\"\n        ],\n        \"semantic_type\": \"\",\n        \"description\": \"\"\n      }\n    },\n    {\n      \"column\": \"body\",\n      \"properties\": {\n        \"dtype\": \"string\",\n        \"num_unique_values\": 2047,\n        \"samples\": [\n          \"CLAIM: Twitter users claim Alex Otti, Abia state governorship candidate of the Labour Party, has been declared the winner. FINDING: Voting data available on the result viewing portal (IReV) of the Independent National Electoral Commission (INEC) shows results from 1,844 polling units in the state, out of 4,062, have been uploaded as of 9:30pm yesterday. Also, the purported declaration of the candidate as the election winner has not been published by any credible media platform. The CODE election observer in the state, Ugochukwu Favour, told the NFC yesterday at 11pm that collation is still ongoing at the ward level. Thus, a winner is yet to be declared. VERDICT: Incorrect SOURCE: IReV portal\",\n          \"Claim: An X user posited that Vaseline contains chemicals that cause breast cancer, age skin quickly and disrupt hormones. Verdict: False! Vaseline or petroleum jelly that has been purified does not contain carcinogens or cancer-causing chemicals. Vaseline is a basic skin care product that forms a protective barrier on the skin, helping to lock in moisture and prevent dryness. It is derived from petroleum jelly, acts as a skin protectant, and is effective as an occlusive. Vaseline is used as a skin moisturiser and sometimes for lip care. Its usage is determined by personal preference and specific skin conditions an individual wants to treat. Vaseline is a brand name for petroleum jelly, and the two names are sometimes used interchangeably. Amidst the trending reactions to Manchester United\\u2019s Andre Onana spotted applying Vaseline on his glove during a football match, an X user made a comparison post between shea butter and Vaseline. The user stated that Vaseline contains chemicals that cause breast cancer, age the skin, and disrupt hormones. On the other hand, the user recommended shea butter as an alternative to Vaseline. Comments under the post reveal varying views from users, with some validating the claim while others opposing it. A user, @Exciting_clips, commented, \\u201cTell us exactly the chemicals in Vaseline that cause cancer.\\u201d Another user, @fisayomiiii, said, \\u201cVaseline contains mineral oil/petrolatum, which damages the DNA and is carcinogenic. I\\u2019ll go with raw, unrefined shea butter.\\u201d As of this report, the post has garnered 2,800 likes, 862 retweets, 141 comments, and 810 bookmarks. Vaseline is a common skin product used in homes as a moisturiser or lip balm. It is generally considered safe for human use. However, the recent controversy surrounding its use, with concerns that it contains chemicals that can cause cancer, necessitated this article. Available studies show that the aspect of petroleum jelly/Vaseline associated with cancer risk is its crude and unrefined form, which may be contaminated with toxic Polycyclic Aromatic Hydrocarbons (PAHs), certain types of which have been categorised as carcinogenic. While unrefined versions may harbour harmful ingredients, refined petroleum jelly is generally considered safe. The purity of petroleum jelly varies depending on the quality of its production process. For instance, the Environmental Working Group\\u2019s Skin Deep scoring system indicates that Vaseline has a low level of exposure to carcinogens and other dangerous ingredients that could lead to cancer. The Skin Deep scoring system conducts hazard ratings on cosmetic products based on their ingredient concerns. The rating system also affirmed that Vaseline does not contain ingredients that expose users to allergies, immunotoxicity, or developmental and reproductive toxicity, making the product safe for human use. Additionally, an explanation of the myths surrounding Vaseline on the Unilever Vaseline website indicates that Vaseline has no known side effects on its users. The explainer answers a question about whether there are side effects from using petroleum jelly or Vaseline. The answer reads, \\u201cVaseline Jelly is formulated using a patented triple-purification process. This means the finished product has been purified three times to remove all impurities. It\\u2019s non-irritating and hypoallergenic.\\u201d In an article by Good Housekeeping, Dr Marina Peredo, a Fellow of the American Academy of Dermatology, commented, \\u201cThere are no clinical studies that demonstrate that the use of petrolatum or petroleum jelly promotes cancer. Today\\u2019s formulas have been purified and tested and are cleaner and healthier than ever.\\u201d Scott Rackett, M.D. and Nourage Ambassador, also said, \\u201cThere is no scientific evidence that short-term or long-term use of Vaseline causes cancer or any other health risks.\\u201d DUBAWA contacted a dermatologist, Dr Ayo Aranmolate, on the concerns that Vaseline contains chemicals that cause breast cancer. He asked, \\u201cWhere do people see this kind of information? Anyway, I am not aware of any specific cancer caused by Vaseline.\\u201d DUBAWA also contacted the United States Food and Drug Administration (FDA) about whether Vaseline could cause cancer. The FDA is a federal agency responsible for protecting public health by ensuring the safety and efficacy of human and veterinary drugs and biological products. In an email to DUBAWA, the FDA noted that the National Toxicology Program (NTP) \\u201chas a report on carcinogens, and petroleum jelly/petrolatum are not on the list.\\u201d The NTP report is a cumulative document that consists of 256 listings of substances and chemical, physical, and mixtures that are identified to cause cancer in humans. In its 115th report , released in 2021, petrolatum or petroleum jelly was on the list. Available studies and contributions from experts indicate that Vaseline or other brands of petroleum jelly are safe for use, provided they have a standard refining history. This fact-check was produced as part of the DUBAWA 2024 Kwame KariKari Fellowship in partnership with Dataphyte to facilitate the ethos of \\u201ctruth\\u201d in Journalism and enhance media and information literacy in the country.\",\n          \"\\u201cBet on MELBET and Enjoy the BEST ODDS ever!!! While registering in the app, use the promo TGCWIN or Click the link below to register on the site and receive 100% bonus on your first deposit!\\u201d  reads  a post on Facebook by the page  MelBet Nigeria . The page uses the name and logo of  MelBet , a popular betting platform in Nigeria. The 24 April 2023 post also has a  link  to what is presented as the platform\\u2019s website. Similar posts can be found  here  and  here . But is the page and website legitimate? We checked. Africa Check found  several   Facebook   pages  with the name MelBet. But there are clues that the platform\\u2019s official Facebook page is  Melbet.nigeria .\\u00a0 The first clue is that the  contact page  of the platform\\u2019s website links back to the  official Facebook page . By comparison, the website linked to in the suspicious posts does not redirect users to its social media platforms. Another clue is that the MelBet Nigeria page has only four followers while the official account has over 300.\\u00a0 Sports betting companies are regulated by the  National Lottery Regulatory Commission  (NLRC) and MelBet is on the  list of approved sports betting  permit holders in Nigeria.\\u00a0 The NLRC has urged the public to be  wary  of websites created by fraudsters. One such  fake website , according to the regulatory body, is the one found on  this Facebook page . The company also says it will not be held liable for any losses incurred on the fake website. Africa Check has previously investigated similar false schemes  here . To help protect yourself against online scams, read  our guide to Facebook scams and how to spot them.\"\n        ],\n        \"semantic_type\": \"\",\n        \"description\": \"\"\n      }\n    },\n    {\n      \"column\": \"label\",\n      \"properties\": {\n        \"dtype\": \"boolean\",\n        \"num_unique_values\": 2,\n        \"samples\": [\n          true,\n          false\n        ],\n        \"semantic_type\": \"\",\n        \"description\": \"\"\n      }\n    },\n    {\n      \"column\": \"cleaned_body\",\n      \"properties\": {\n        \"dtype\": \"string\",\n        \"num_unique_values\": 2047,\n        \"samples\": [\n          \"CLAIM: Twitter users claim Alex Otti, Abia state governorship candidate of the Labour Party, has been declared the winner. FINDING: Voting data available on the result viewing portal (IReV) of the Independent National Electoral Commission (INEC) shows results from 1,844 polling units in the state, out of 4,062, have been uploaded as of 9:30pm yesterday. Also, the purported declaration of the candidate as the election winner has not been published by any credible media platform. The CODE election observer in the state, Ugochukwu Favour, told the NFC yesterday at 11pm that collation is still ongoing at the ward level. Thus, a winner is yet to be declared. VERDICT: Incorrect SOURCE: IReV portal\",\n          \"Claim: An X user posited that Vaseline contains chemicals that cause breast cancer, age skin quickly and disrupt hormones. Verdict: False! Vaseline or petroleum jelly that has been purified does not contain carcinogens or cancer-causing chemicals. Vaseline is a basic skin care product that forms a protective barrier on the skin, helping to lock in moisture and prevent dryness. It is derived from petroleum jelly, acts as a skin protectant, and is effective as an occlusive. Vaseline is used as a skin moisturiser and sometimes for lip care. Its usage is determined by personal preference and specific skin conditions an individual wants to treat. Vaseline is a brand name for petroleum jelly, and the two names are sometimes used interchangeably. Amidst the trending reactions to Manchester Uniteds Andre Onana spotted applying Vaseline on his glove during a football match, an X user made a comparison post between shea butter and Vaseline. The user stated that Vaseline contains chemicals that cause breast cancer, age the skin, and disrupt hormones. On the other hand, the user recommended shea butter as an alternative to Vaseline. Comments under the post reveal varying views from users, with some validating the claim while others opposing it. A user, @Exciting_clips, commented, Tell us exactly the chemicals in Vaseline that cause cancer. Another user, @fisayomiiii, said, Vaseline contains mineral oil/petrolatum, which damages the DNA and is carcinogenic. Ill go with raw, unrefined shea butter. As of this report, the post has garnered 2,800 likes, 862 retweets, 141 comments, and 810 bookmarks. Vaseline is a common skin product used in homes as a moisturiser or lip balm. It is generally considered safe for human use. However, the recent controversy surrounding its use, with concerns that it contains chemicals that can cause cancer, necessitated this article. Available studies show that the aspect of petroleum jelly/Vaseline associated with cancer risk is its crude and unrefined form, which may be contaminated with toxic Polycyclic Aromatic Hydrocarbons (PAHs), certain types of which have been categorised as carcinogenic. While unrefined versions may harbour harmful ingredients, refined petroleum jelly is generally considered safe. The purity of petroleum jelly varies depending on the quality of its production process. For instance, the Environmental Working Groups Skin Deep scoring system indicates that Vaseline has a low level of exposure to carcinogens and other dangerous ingredients that could lead to cancer. The Skin Deep scoring system conducts hazard ratings on cosmetic products based on their ingredient concerns. The rating system also affirmed that Vaseline does not contain ingredients that expose users to allergies, immunotoxicity, or developmental and reproductive toxicity, making the product safe for human use. Additionally, an explanation of the myths surrounding Vaseline on the Unilever Vaseline website indicates that Vaseline has no known side effects on its users. The explainer answers a question about whether there are side effects from using petroleum jelly or Vaseline. The answer reads, Vaseline Jelly is formulated using a patented triple-purification process. This means the finished product has been purified three times to remove all impurities. Its non-irritating and hypoallergenic. In an article by Good Housekeeping, Dr Marina Peredo, a Fellow of the American Academy of Dermatology, commented, There are no clinical studies that demonstrate that the use of petrolatum or petroleum jelly promotes cancer. Todays formulas have been purified and tested and are cleaner and healthier than ever. Scott Rackett, M.D. and Nourage Ambassador, also said, There is no scientific evidence that short-term or long-term use of Vaseline causes cancer or any other health risks. DUBAWA contacted a dermatologist, Dr Ayo Aranmolate, on the concerns that Vaseline contains chemicals that cause breast cancer. He asked, Where do people see this kind of information? Anyway, I am not aware of any specific cancer caused by Vaseline. DUBAWA also contacted the United States Food and Drug Administration (FDA) about whether Vaseline could cause cancer. The FDA is a federal agency responsible for protecting public health by ensuring the safety and efficacy of human and veterinary drugs and biological products. In an email to DUBAWA, the FDA noted that the National Toxicology Program (NTP) has a report on carcinogens, and petroleum jelly/petrolatum are not on the list. The NTP report is a cumulative document that consists of 256 listings of substances and chemical, physical, and mixtures that are identified to cause cancer in humans. In its 115th report , released in 2021, petrolatum or petroleum jelly was on the list. Available studies and contributions from experts indicate that Vaseline or other brands of petroleum jelly are safe for use, provided they have a standard refining history. This fact-check was produced as part of the DUBAWA 2024 Kwame KariKari Fellowship in partnership with Dataphyte to facilitate the ethos of truth in Journalism and enhance media and information literacy in the country.\"\n        ],\n        \"semantic_type\": \"\",\n        \"description\": \"\"\n      }\n    }\n  ]\n}",
              "type": "dataframe",
              "variable_name": "df"
            },
            "text/html": [
              "\n",
              "  <div id=\"df-994981a4-1a6b-4532-a191-40b1b9462ad4\" class=\"colab-df-container\">\n",
              "    <div>\n",
              "<style scoped>\n",
              "    .dataframe tbody tr th:only-of-type {\n",
              "        vertical-align: middle;\n",
              "    }\n",
              "\n",
              "    .dataframe tbody tr th {\n",
              "        vertical-align: top;\n",
              "    }\n",
              "\n",
              "    .dataframe thead th {\n",
              "        text-align: right;\n",
              "    }\n",
              "</style>\n",
              "<table border=\"1\" class=\"dataframe\">\n",
              "  <thead>\n",
              "    <tr style=\"text-align: right;\">\n",
              "      <th></th>\n",
              "      <th>date</th>\n",
              "      <th>title</th>\n",
              "      <th>verdict</th>\n",
              "      <th>body</th>\n",
              "      <th>label</th>\n",
              "      <th>cleaned_body</th>\n",
              "    </tr>\n",
              "  </thead>\n",
              "  <tbody>\n",
              "    <tr>\n",
              "      <th>0</th>\n",
              "      <td>31-Mar-25</td>\n",
              "      <td>Kenyan president has not asked Nigerian govern...</td>\n",
              "      <td>Posts on Facebook claim that Kenyan president ...</td>\n",
              "      <td>Kenyan president William Ruto has asked the Ni...</td>\n",
              "      <td>False</td>\n",
              "      <td>Kenyan president William Ruto has asked the Ni...</td>\n",
              "    </tr>\n",
              "    <tr>\n",
              "      <th>1</th>\n",
              "      <td>24-Mar-25</td>\n",
              "      <td>No, chairperson of Nigeria’s main opposition P...</td>\n",
              "      <td>Nigeria’s Peoples Democratic Party is experien...</td>\n",
              "      <td>The  Peoples Democratic Party  (PDP), Nigeria’...</td>\n",
              "      <td>False</td>\n",
              "      <td>The Peoples Democratic Party (PDP), Nigerias m...</td>\n",
              "    </tr>\n",
              "    <tr>\n",
              "      <th>2</th>\n",
              "      <td>24-Mar-25</td>\n",
              "      <td>No evidence Nigeria’s Enugu state plans to ban...</td>\n",
              "      <td>Some Facebook posts in Nigeria claim that the ...</td>\n",
              "      <td>Several posts on Facebook in Nigeria claim tha...</td>\n",
              "      <td>False</td>\n",
              "      <td>Several posts on Facebook in Nigeria claim tha...</td>\n",
              "    </tr>\n",
              "    <tr>\n",
              "      <th>3</th>\n",
              "      <td>27-Mar-25</td>\n",
              "      <td>Nigeria’s former president Obasanjo did not ad...</td>\n",
              "      <td>Several Facebook posts claim that former Niger...</td>\n",
              "      <td>Nigeria’s former president  Olusegun Obasanjo ...</td>\n",
              "      <td>False</td>\n",
              "      <td>Nigerias former president Olusegun Obasanjo vi...</td>\n",
              "    </tr>\n",
              "    <tr>\n",
              "      <th>4</th>\n",
              "      <td>14-Mar-25</td>\n",
              "      <td>No, HIV-positive patients in Nigeria won’t hav...</td>\n",
              "      <td>US president Donald Trump’s decision to tempor...</td>\n",
              "      <td>Donald Trump  was  sworn in  as president of t...</td>\n",
              "      <td>False</td>\n",
              "      <td>Donald Trump was sworn in as president of the ...</td>\n",
              "    </tr>\n",
              "  </tbody>\n",
              "</table>\n",
              "</div>\n",
              "    <div class=\"colab-df-buttons\">\n",
              "\n",
              "  <div class=\"colab-df-container\">\n",
              "    <button class=\"colab-df-convert\" onclick=\"convertToInteractive('df-994981a4-1a6b-4532-a191-40b1b9462ad4')\"\n",
              "            title=\"Convert this dataframe to an interactive table.\"\n",
              "            style=\"display:none;\">\n",
              "\n",
              "  <svg xmlns=\"http://www.w3.org/2000/svg\" height=\"24px\" viewBox=\"0 -960 960 960\">\n",
              "    <path d=\"M120-120v-720h720v720H120Zm60-500h600v-160H180v160Zm220 220h160v-160H400v160Zm0 220h160v-160H400v160ZM180-400h160v-160H180v160Zm440 0h160v-160H620v160ZM180-180h160v-160H180v160Zm440 0h160v-160H620v160Z\"/>\n",
              "  </svg>\n",
              "    </button>\n",
              "\n",
              "  <style>\n",
              "    .colab-df-container {\n",
              "      display:flex;\n",
              "      gap: 12px;\n",
              "    }\n",
              "\n",
              "    .colab-df-convert {\n",
              "      background-color: #E8F0FE;\n",
              "      border: none;\n",
              "      border-radius: 50%;\n",
              "      cursor: pointer;\n",
              "      display: none;\n",
              "      fill: #1967D2;\n",
              "      height: 32px;\n",
              "      padding: 0 0 0 0;\n",
              "      width: 32px;\n",
              "    }\n",
              "\n",
              "    .colab-df-convert:hover {\n",
              "      background-color: #E2EBFA;\n",
              "      box-shadow: 0px 1px 2px rgba(60, 64, 67, 0.3), 0px 1px 3px 1px rgba(60, 64, 67, 0.15);\n",
              "      fill: #174EA6;\n",
              "    }\n",
              "\n",
              "    .colab-df-buttons div {\n",
              "      margin-bottom: 4px;\n",
              "    }\n",
              "\n",
              "    [theme=dark] .colab-df-convert {\n",
              "      background-color: #3B4455;\n",
              "      fill: #D2E3FC;\n",
              "    }\n",
              "\n",
              "    [theme=dark] .colab-df-convert:hover {\n",
              "      background-color: #434B5C;\n",
              "      box-shadow: 0px 1px 3px 1px rgba(0, 0, 0, 0.15);\n",
              "      filter: drop-shadow(0px 1px 2px rgba(0, 0, 0, 0.3));\n",
              "      fill: #FFFFFF;\n",
              "    }\n",
              "  </style>\n",
              "\n",
              "    <script>\n",
              "      const buttonEl =\n",
              "        document.querySelector('#df-994981a4-1a6b-4532-a191-40b1b9462ad4 button.colab-df-convert');\n",
              "      buttonEl.style.display =\n",
              "        google.colab.kernel.accessAllowed ? 'block' : 'none';\n",
              "\n",
              "      async function convertToInteractive(key) {\n",
              "        const element = document.querySelector('#df-994981a4-1a6b-4532-a191-40b1b9462ad4');\n",
              "        const dataTable =\n",
              "          await google.colab.kernel.invokeFunction('convertToInteractive',\n",
              "                                                    [key], {});\n",
              "        if (!dataTable) return;\n",
              "\n",
              "        const docLinkHtml = 'Like what you see? Visit the ' +\n",
              "          '<a target=\"_blank\" href=https://colab.research.google.com/notebooks/data_table.ipynb>data table notebook</a>'\n",
              "          + ' to learn more about interactive tables.';\n",
              "        element.innerHTML = '';\n",
              "        dataTable['output_type'] = 'display_data';\n",
              "        await google.colab.output.renderOutput(dataTable, element);\n",
              "        const docLink = document.createElement('div');\n",
              "        docLink.innerHTML = docLinkHtml;\n",
              "        element.appendChild(docLink);\n",
              "      }\n",
              "    </script>\n",
              "  </div>\n",
              "\n",
              "\n",
              "    <div id=\"df-a487dfd6-9236-4a10-9d80-8b66d0e3f2f2\">\n",
              "      <button class=\"colab-df-quickchart\" onclick=\"quickchart('df-a487dfd6-9236-4a10-9d80-8b66d0e3f2f2')\"\n",
              "                title=\"Suggest charts\"\n",
              "                style=\"display:none;\">\n",
              "\n",
              "<svg xmlns=\"http://www.w3.org/2000/svg\" height=\"24px\"viewBox=\"0 0 24 24\"\n",
              "     width=\"24px\">\n",
              "    <g>\n",
              "        <path d=\"M19 3H5c-1.1 0-2 .9-2 2v14c0 1.1.9 2 2 2h14c1.1 0 2-.9 2-2V5c0-1.1-.9-2-2-2zM9 17H7v-7h2v7zm4 0h-2V7h2v10zm4 0h-2v-4h2v4z\"/>\n",
              "    </g>\n",
              "</svg>\n",
              "      </button>\n",
              "\n",
              "<style>\n",
              "  .colab-df-quickchart {\n",
              "      --bg-color: #E8F0FE;\n",
              "      --fill-color: #1967D2;\n",
              "      --hover-bg-color: #E2EBFA;\n",
              "      --hover-fill-color: #174EA6;\n",
              "      --disabled-fill-color: #AAA;\n",
              "      --disabled-bg-color: #DDD;\n",
              "  }\n",
              "\n",
              "  [theme=dark] .colab-df-quickchart {\n",
              "      --bg-color: #3B4455;\n",
              "      --fill-color: #D2E3FC;\n",
              "      --hover-bg-color: #434B5C;\n",
              "      --hover-fill-color: #FFFFFF;\n",
              "      --disabled-bg-color: #3B4455;\n",
              "      --disabled-fill-color: #666;\n",
              "  }\n",
              "\n",
              "  .colab-df-quickchart {\n",
              "    background-color: var(--bg-color);\n",
              "    border: none;\n",
              "    border-radius: 50%;\n",
              "    cursor: pointer;\n",
              "    display: none;\n",
              "    fill: var(--fill-color);\n",
              "    height: 32px;\n",
              "    padding: 0;\n",
              "    width: 32px;\n",
              "  }\n",
              "\n",
              "  .colab-df-quickchart:hover {\n",
              "    background-color: var(--hover-bg-color);\n",
              "    box-shadow: 0 1px 2px rgba(60, 64, 67, 0.3), 0 1px 3px 1px rgba(60, 64, 67, 0.15);\n",
              "    fill: var(--button-hover-fill-color);\n",
              "  }\n",
              "\n",
              "  .colab-df-quickchart-complete:disabled,\n",
              "  .colab-df-quickchart-complete:disabled:hover {\n",
              "    background-color: var(--disabled-bg-color);\n",
              "    fill: var(--disabled-fill-color);\n",
              "    box-shadow: none;\n",
              "  }\n",
              "\n",
              "  .colab-df-spinner {\n",
              "    border: 2px solid var(--fill-color);\n",
              "    border-color: transparent;\n",
              "    border-bottom-color: var(--fill-color);\n",
              "    animation:\n",
              "      spin 1s steps(1) infinite;\n",
              "  }\n",
              "\n",
              "  @keyframes spin {\n",
              "    0% {\n",
              "      border-color: transparent;\n",
              "      border-bottom-color: var(--fill-color);\n",
              "      border-left-color: var(--fill-color);\n",
              "    }\n",
              "    20% {\n",
              "      border-color: transparent;\n",
              "      border-left-color: var(--fill-color);\n",
              "      border-top-color: var(--fill-color);\n",
              "    }\n",
              "    30% {\n",
              "      border-color: transparent;\n",
              "      border-left-color: var(--fill-color);\n",
              "      border-top-color: var(--fill-color);\n",
              "      border-right-color: var(--fill-color);\n",
              "    }\n",
              "    40% {\n",
              "      border-color: transparent;\n",
              "      border-right-color: var(--fill-color);\n",
              "      border-top-color: var(--fill-color);\n",
              "    }\n",
              "    60% {\n",
              "      border-color: transparent;\n",
              "      border-right-color: var(--fill-color);\n",
              "    }\n",
              "    80% {\n",
              "      border-color: transparent;\n",
              "      border-right-color: var(--fill-color);\n",
              "      border-bottom-color: var(--fill-color);\n",
              "    }\n",
              "    90% {\n",
              "      border-color: transparent;\n",
              "      border-bottom-color: var(--fill-color);\n",
              "    }\n",
              "  }\n",
              "</style>\n",
              "\n",
              "      <script>\n",
              "        async function quickchart(key) {\n",
              "          const quickchartButtonEl =\n",
              "            document.querySelector('#' + key + ' button');\n",
              "          quickchartButtonEl.disabled = true;  // To prevent multiple clicks.\n",
              "          quickchartButtonEl.classList.add('colab-df-spinner');\n",
              "          try {\n",
              "            const charts = await google.colab.kernel.invokeFunction(\n",
              "                'suggestCharts', [key], {});\n",
              "          } catch (error) {\n",
              "            console.error('Error during call to suggestCharts:', error);\n",
              "          }\n",
              "          quickchartButtonEl.classList.remove('colab-df-spinner');\n",
              "          quickchartButtonEl.classList.add('colab-df-quickchart-complete');\n",
              "        }\n",
              "        (() => {\n",
              "          let quickchartButtonEl =\n",
              "            document.querySelector('#df-a487dfd6-9236-4a10-9d80-8b66d0e3f2f2 button');\n",
              "          quickchartButtonEl.style.display =\n",
              "            google.colab.kernel.accessAllowed ? 'block' : 'none';\n",
              "        })();\n",
              "      </script>\n",
              "    </div>\n",
              "\n",
              "    </div>\n",
              "  </div>\n"
            ],
            "text/plain": [
              "        date                                              title  \\\n",
              "0  31-Mar-25  Kenyan president has not asked Nigerian govern...   \n",
              "1  24-Mar-25  No, chairperson of Nigeria’s main opposition P...   \n",
              "2  24-Mar-25  No evidence Nigeria’s Enugu state plans to ban...   \n",
              "3  27-Mar-25  Nigeria’s former president Obasanjo did not ad...   \n",
              "4  14-Mar-25  No, HIV-positive patients in Nigeria won’t hav...   \n",
              "\n",
              "                                             verdict  \\\n",
              "0  Posts on Facebook claim that Kenyan president ...   \n",
              "1  Nigeria’s Peoples Democratic Party is experien...   \n",
              "2  Some Facebook posts in Nigeria claim that the ...   \n",
              "3  Several Facebook posts claim that former Niger...   \n",
              "4  US president Donald Trump’s decision to tempor...   \n",
              "\n",
              "                                                body  label  \\\n",
              "0  Kenyan president William Ruto has asked the Ni...  False   \n",
              "1  The  Peoples Democratic Party  (PDP), Nigeria’...  False   \n",
              "2  Several posts on Facebook in Nigeria claim tha...  False   \n",
              "3  Nigeria’s former president  Olusegun Obasanjo ...  False   \n",
              "4  Donald Trump  was  sworn in  as president of t...  False   \n",
              "\n",
              "                                        cleaned_body  \n",
              "0  Kenyan president William Ruto has asked the Ni...  \n",
              "1  The Peoples Democratic Party (PDP), Nigerias m...  \n",
              "2  Several posts on Facebook in Nigeria claim tha...  \n",
              "3  Nigerias former president Olusegun Obasanjo vi...  \n",
              "4  Donald Trump was sworn in as president of the ...  "
            ]
          },
          "execution_count": 4,
          "metadata": {},
          "output_type": "execute_result"
        }
      ],
      "source": [
        "# checking for first few rows of the dataset\n",
        "df = pd.read_csv('/content/drive/My Drive/Colab Notebooks/datasets/df_clean.csv')\n",
        "df.head()"
      ]
    },
    {
      "cell_type": "code",
      "execution_count": null,
      "metadata": {
        "id": "NEG08BtW6oh_"
      },
      "outputs": [],
      "source": [
        "# used to convert label column to string, strip off white spaces and convert to lower case\n",
        "df['label'] = df['label'].astype(str).str.strip().str.lower()"
      ]
    },
    {
      "cell_type": "markdown",
      "metadata": {
        "id": "russKcPEJVr4"
      },
      "source": [
        "Feature engineering"
      ]
    },
    {
      "cell_type": "code",
      "execution_count": null,
      "metadata": {
        "colab": {
          "base_uri": "https://localhost:8080/",
          "height": 342
        },
        "id": "FrXemaXX2mAP",
        "outputId": "92603792-3df7-4c04-b342-eb111e45230b"
      },
      "outputs": [
        {
          "data": {
            "application/vnd.google.colaboratory.intrinsic+json": {
              "repr_error": "0",
              "type": "dataframe"
            },
            "text/html": [
              "\n",
              "  <div id=\"df-1d026efa-f094-4769-ba76-a89b50aef628\" class=\"colab-df-container\">\n",
              "    <div>\n",
              "<style scoped>\n",
              "    .dataframe tbody tr th:only-of-type {\n",
              "        vertical-align: middle;\n",
              "    }\n",
              "\n",
              "    .dataframe tbody tr th {\n",
              "        vertical-align: top;\n",
              "    }\n",
              "\n",
              "    .dataframe thead th {\n",
              "        text-align: right;\n",
              "    }\n",
              "</style>\n",
              "<table border=\"1\" class=\"dataframe\">\n",
              "  <thead>\n",
              "    <tr style=\"text-align: right;\">\n",
              "      <th></th>\n",
              "      <th>date</th>\n",
              "      <th>title</th>\n",
              "      <th>verdict</th>\n",
              "      <th>body</th>\n",
              "      <th>label</th>\n",
              "      <th>cleaned_body</th>\n",
              "      <th>verdict_label</th>\n",
              "    </tr>\n",
              "  </thead>\n",
              "  <tbody>\n",
              "    <tr>\n",
              "      <th>1085</th>\n",
              "      <td>12-Apr-21</td>\n",
              "      <td>Is there truly a new HIV vaccine with 97% anti...</td>\n",
              "      <td>While it is true an HIV candidate vaccine (IAV...</td>\n",
              "      <td>Claim: The screenshot of a report making the r...</td>\n",
              "      <td>true</td>\n",
              "      <td>Claim: The screenshot of a report making the r...</td>\n",
              "      <td>1</td>\n",
              "    </tr>\n",
              "    <tr>\n",
              "      <th>994</th>\n",
              "      <td>10-Mar-25</td>\n",
              "      <td>Verifying several claims on Pineapple leaf as ...</td>\n",
              "      <td>Verdict: Misleading! Two out of the three clai...</td>\n",
              "      <td>Claim: A Facebook page , Herbal Magic, claimed...</td>\n",
              "      <td>false</td>\n",
              "      <td>Claim: A Facebook page , Herbal Magic, claimed...</td>\n",
              "      <td>0</td>\n",
              "    </tr>\n",
              "    <tr>\n",
              "      <th>442</th>\n",
              "      <td>16-Dec-22</td>\n",
              "      <td>False claim on Tinubu attributed to the Nigeri...</td>\n",
              "      <td>The masterminds of this false information were...</td>\n",
              "      <td>The attention of the Nigerian Fact-Checkers Co...</td>\n",
              "      <td>false</td>\n",
              "      <td>The attention of the Nigerian Fact-Checkers Co...</td>\n",
              "      <td>0</td>\n",
              "    </tr>\n",
              "    <tr>\n",
              "      <th>1222</th>\n",
              "      <td>21-Nov-21</td>\n",
              "      <td>Did Nigerian court order MTN to pay user N5.5 ...</td>\n",
              "      <td>The claim is True. In 2020, an FCT High Court ...</td>\n",
              "      <td>Claim: A WhatsApp message claims that a Nigeri...</td>\n",
              "      <td>true</td>\n",
              "      <td>Claim: A WhatsApp message claims that a Nigeri...</td>\n",
              "      <td>1</td>\n",
              "    </tr>\n",
              "    <tr>\n",
              "      <th>1911</th>\n",
              "      <td>30-Oct-24</td>\n",
              "      <td>Is video showing foreign student protesters ca...</td>\n",
              "      <td>Verdict: True. In August, students protested o...</td>\n",
              "      <td>Claim: A viral clip on Facebook and WhatsApp s...</td>\n",
              "      <td>true</td>\n",
              "      <td>Claim: A viral clip on Facebook and WhatsApp s...</td>\n",
              "      <td>1</td>\n",
              "    </tr>\n",
              "    <tr>\n",
              "      <th>706</th>\n",
              "      <td>30-Apr-24</td>\n",
              "      <td>Peter Obi’s Water Project: Video of woman scoo...</td>\n",
              "      <td>Verdict: FALSE. The video is not related to Ni...</td>\n",
              "      <td>Claim: An X user posted a video showing a woma...</td>\n",
              "      <td>false</td>\n",
              "      <td>Claim: An X user posted a video showing a woma...</td>\n",
              "      <td>0</td>\n",
              "    </tr>\n",
              "  </tbody>\n",
              "</table>\n",
              "</div>\n",
              "    <div class=\"colab-df-buttons\">\n",
              "\n",
              "  <div class=\"colab-df-container\">\n",
              "    <button class=\"colab-df-convert\" onclick=\"convertToInteractive('df-1d026efa-f094-4769-ba76-a89b50aef628')\"\n",
              "            title=\"Convert this dataframe to an interactive table.\"\n",
              "            style=\"display:none;\">\n",
              "\n",
              "  <svg xmlns=\"http://www.w3.org/2000/svg\" height=\"24px\" viewBox=\"0 -960 960 960\">\n",
              "    <path d=\"M120-120v-720h720v720H120Zm60-500h600v-160H180v160Zm220 220h160v-160H400v160Zm0 220h160v-160H400v160ZM180-400h160v-160H180v160Zm440 0h160v-160H620v160ZM180-180h160v-160H180v160Zm440 0h160v-160H620v160Z\"/>\n",
              "  </svg>\n",
              "    </button>\n",
              "\n",
              "  <style>\n",
              "    .colab-df-container {\n",
              "      display:flex;\n",
              "      gap: 12px;\n",
              "    }\n",
              "\n",
              "    .colab-df-convert {\n",
              "      background-color: #E8F0FE;\n",
              "      border: none;\n",
              "      border-radius: 50%;\n",
              "      cursor: pointer;\n",
              "      display: none;\n",
              "      fill: #1967D2;\n",
              "      height: 32px;\n",
              "      padding: 0 0 0 0;\n",
              "      width: 32px;\n",
              "    }\n",
              "\n",
              "    .colab-df-convert:hover {\n",
              "      background-color: #E2EBFA;\n",
              "      box-shadow: 0px 1px 2px rgba(60, 64, 67, 0.3), 0px 1px 3px 1px rgba(60, 64, 67, 0.15);\n",
              "      fill: #174EA6;\n",
              "    }\n",
              "\n",
              "    .colab-df-buttons div {\n",
              "      margin-bottom: 4px;\n",
              "    }\n",
              "\n",
              "    [theme=dark] .colab-df-convert {\n",
              "      background-color: #3B4455;\n",
              "      fill: #D2E3FC;\n",
              "    }\n",
              "\n",
              "    [theme=dark] .colab-df-convert:hover {\n",
              "      background-color: #434B5C;\n",
              "      box-shadow: 0px 1px 3px 1px rgba(0, 0, 0, 0.15);\n",
              "      filter: drop-shadow(0px 1px 2px rgba(0, 0, 0, 0.3));\n",
              "      fill: #FFFFFF;\n",
              "    }\n",
              "  </style>\n",
              "\n",
              "    <script>\n",
              "      const buttonEl =\n",
              "        document.querySelector('#df-1d026efa-f094-4769-ba76-a89b50aef628 button.colab-df-convert');\n",
              "      buttonEl.style.display =\n",
              "        google.colab.kernel.accessAllowed ? 'block' : 'none';\n",
              "\n",
              "      async function convertToInteractive(key) {\n",
              "        const element = document.querySelector('#df-1d026efa-f094-4769-ba76-a89b50aef628');\n",
              "        const dataTable =\n",
              "          await google.colab.kernel.invokeFunction('convertToInteractive',\n",
              "                                                    [key], {});\n",
              "        if (!dataTable) return;\n",
              "\n",
              "        const docLinkHtml = 'Like what you see? Visit the ' +\n",
              "          '<a target=\"_blank\" href=https://colab.research.google.com/notebooks/data_table.ipynb>data table notebook</a>'\n",
              "          + ' to learn more about interactive tables.';\n",
              "        element.innerHTML = '';\n",
              "        dataTable['output_type'] = 'display_data';\n",
              "        await google.colab.output.renderOutput(dataTable, element);\n",
              "        const docLink = document.createElement('div');\n",
              "        docLink.innerHTML = docLinkHtml;\n",
              "        element.appendChild(docLink);\n",
              "      }\n",
              "    </script>\n",
              "  </div>\n",
              "\n",
              "\n",
              "    <div id=\"df-ffda223a-5e79-469c-b007-c1b3983eea33\">\n",
              "      <button class=\"colab-df-quickchart\" onclick=\"quickchart('df-ffda223a-5e79-469c-b007-c1b3983eea33')\"\n",
              "                title=\"Suggest charts\"\n",
              "                style=\"display:none;\">\n",
              "\n",
              "<svg xmlns=\"http://www.w3.org/2000/svg\" height=\"24px\"viewBox=\"0 0 24 24\"\n",
              "     width=\"24px\">\n",
              "    <g>\n",
              "        <path d=\"M19 3H5c-1.1 0-2 .9-2 2v14c0 1.1.9 2 2 2h14c1.1 0 2-.9 2-2V5c0-1.1-.9-2-2-2zM9 17H7v-7h2v7zm4 0h-2V7h2v10zm4 0h-2v-4h2v4z\"/>\n",
              "    </g>\n",
              "</svg>\n",
              "      </button>\n",
              "\n",
              "<style>\n",
              "  .colab-df-quickchart {\n",
              "      --bg-color: #E8F0FE;\n",
              "      --fill-color: #1967D2;\n",
              "      --hover-bg-color: #E2EBFA;\n",
              "      --hover-fill-color: #174EA6;\n",
              "      --disabled-fill-color: #AAA;\n",
              "      --disabled-bg-color: #DDD;\n",
              "  }\n",
              "\n",
              "  [theme=dark] .colab-df-quickchart {\n",
              "      --bg-color: #3B4455;\n",
              "      --fill-color: #D2E3FC;\n",
              "      --hover-bg-color: #434B5C;\n",
              "      --hover-fill-color: #FFFFFF;\n",
              "      --disabled-bg-color: #3B4455;\n",
              "      --disabled-fill-color: #666;\n",
              "  }\n",
              "\n",
              "  .colab-df-quickchart {\n",
              "    background-color: var(--bg-color);\n",
              "    border: none;\n",
              "    border-radius: 50%;\n",
              "    cursor: pointer;\n",
              "    display: none;\n",
              "    fill: var(--fill-color);\n",
              "    height: 32px;\n",
              "    padding: 0;\n",
              "    width: 32px;\n",
              "  }\n",
              "\n",
              "  .colab-df-quickchart:hover {\n",
              "    background-color: var(--hover-bg-color);\n",
              "    box-shadow: 0 1px 2px rgba(60, 64, 67, 0.3), 0 1px 3px 1px rgba(60, 64, 67, 0.15);\n",
              "    fill: var(--button-hover-fill-color);\n",
              "  }\n",
              "\n",
              "  .colab-df-quickchart-complete:disabled,\n",
              "  .colab-df-quickchart-complete:disabled:hover {\n",
              "    background-color: var(--disabled-bg-color);\n",
              "    fill: var(--disabled-fill-color);\n",
              "    box-shadow: none;\n",
              "  }\n",
              "\n",
              "  .colab-df-spinner {\n",
              "    border: 2px solid var(--fill-color);\n",
              "    border-color: transparent;\n",
              "    border-bottom-color: var(--fill-color);\n",
              "    animation:\n",
              "      spin 1s steps(1) infinite;\n",
              "  }\n",
              "\n",
              "  @keyframes spin {\n",
              "    0% {\n",
              "      border-color: transparent;\n",
              "      border-bottom-color: var(--fill-color);\n",
              "      border-left-color: var(--fill-color);\n",
              "    }\n",
              "    20% {\n",
              "      border-color: transparent;\n",
              "      border-left-color: var(--fill-color);\n",
              "      border-top-color: var(--fill-color);\n",
              "    }\n",
              "    30% {\n",
              "      border-color: transparent;\n",
              "      border-left-color: var(--fill-color);\n",
              "      border-top-color: var(--fill-color);\n",
              "      border-right-color: var(--fill-color);\n",
              "    }\n",
              "    40% {\n",
              "      border-color: transparent;\n",
              "      border-right-color: var(--fill-color);\n",
              "      border-top-color: var(--fill-color);\n",
              "    }\n",
              "    60% {\n",
              "      border-color: transparent;\n",
              "      border-right-color: var(--fill-color);\n",
              "    }\n",
              "    80% {\n",
              "      border-color: transparent;\n",
              "      border-right-color: var(--fill-color);\n",
              "      border-bottom-color: var(--fill-color);\n",
              "    }\n",
              "    90% {\n",
              "      border-color: transparent;\n",
              "      border-bottom-color: var(--fill-color);\n",
              "    }\n",
              "  }\n",
              "</style>\n",
              "\n",
              "      <script>\n",
              "        async function quickchart(key) {\n",
              "          const quickchartButtonEl =\n",
              "            document.querySelector('#' + key + ' button');\n",
              "          quickchartButtonEl.disabled = true;  // To prevent multiple clicks.\n",
              "          quickchartButtonEl.classList.add('colab-df-spinner');\n",
              "          try {\n",
              "            const charts = await google.colab.kernel.invokeFunction(\n",
              "                'suggestCharts', [key], {});\n",
              "          } catch (error) {\n",
              "            console.error('Error during call to suggestCharts:', error);\n",
              "          }\n",
              "          quickchartButtonEl.classList.remove('colab-df-spinner');\n",
              "          quickchartButtonEl.classList.add('colab-df-quickchart-complete');\n",
              "        }\n",
              "        (() => {\n",
              "          let quickchartButtonEl =\n",
              "            document.querySelector('#df-ffda223a-5e79-469c-b007-c1b3983eea33 button');\n",
              "          quickchartButtonEl.style.display =\n",
              "            google.colab.kernel.accessAllowed ? 'block' : 'none';\n",
              "        })();\n",
              "      </script>\n",
              "    </div>\n",
              "\n",
              "    </div>\n",
              "  </div>\n"
            ],
            "text/plain": [
              "           date                                              title  \\\n",
              "1085  12-Apr-21  Is there truly a new HIV vaccine with 97% anti...   \n",
              "994   10-Mar-25  Verifying several claims on Pineapple leaf as ...   \n",
              "442   16-Dec-22  False claim on Tinubu attributed to the Nigeri...   \n",
              "1222  21-Nov-21  Did Nigerian court order MTN to pay user N5.5 ...   \n",
              "1911  30-Oct-24  Is video showing foreign student protesters ca...   \n",
              "706   30-Apr-24  Peter Obi’s Water Project: Video of woman scoo...   \n",
              "\n",
              "                                                verdict  \\\n",
              "1085  While it is true an HIV candidate vaccine (IAV...   \n",
              "994   Verdict: Misleading! Two out of the three clai...   \n",
              "442   The masterminds of this false information were...   \n",
              "1222  The claim is True. In 2020, an FCT High Court ...   \n",
              "1911  Verdict: True. In August, students protested o...   \n",
              "706   Verdict: FALSE. The video is not related to Ni...   \n",
              "\n",
              "                                                   body  label  \\\n",
              "1085  Claim: The screenshot of a report making the r...   true   \n",
              "994   Claim: A Facebook page , Herbal Magic, claimed...  false   \n",
              "442   The attention of the Nigerian Fact-Checkers Co...  false   \n",
              "1222  Claim: A WhatsApp message claims that a Nigeri...   true   \n",
              "1911  Claim: A viral clip on Facebook and WhatsApp s...   true   \n",
              "706   Claim: An X user posted a video showing a woma...  false   \n",
              "\n",
              "                                           cleaned_body  verdict_label  \n",
              "1085  Claim: The screenshot of a report making the r...              1  \n",
              "994   Claim: A Facebook page , Herbal Magic, claimed...              0  \n",
              "442   The attention of the Nigerian Fact-Checkers Co...              0  \n",
              "1222  Claim: A WhatsApp message claims that a Nigeri...              1  \n",
              "1911  Claim: A viral clip on Facebook and WhatsApp s...              1  \n",
              "706   Claim: An X user posted a video showing a woma...              0  "
            ]
          },
          "execution_count": 6,
          "metadata": {},
          "output_type": "execute_result"
        }
      ],
      "source": [
        "# Converting categorical data to numeric format.\n",
        "# this converts df['verdict_label'] values: false to '0' and true to '1'\n",
        "df['verdict_label'] = df['label'].apply(lambda x: 1 if x == 'true' else 0)\n",
        "df.sample(6)"
      ]
    },
    {
      "cell_type": "code",
      "execution_count": null,
      "metadata": {
        "id": "Uj1o-twCF4ws"
      },
      "outputs": [],
      "source": [
        "# Dropping irrelevant columns\n",
        "df.drop(['date','title','verdict','body','label'], axis=1, inplace=True)"
      ]
    },
    {
      "cell_type": "code",
      "execution_count": null,
      "metadata": {
        "colab": {
          "base_uri": "https://localhost:8080/"
        },
        "id": "WtVR8Q5_F4wv",
        "outputId": "6bcb929a-564e-4ddd-cd8f-bd86e4a9746c"
      },
      "outputs": [
        {
          "data": {
            "text/plain": [
              "(2048, 2)"
            ]
          },
          "execution_count": 8,
          "metadata": {},
          "output_type": "execute_result"
        }
      ],
      "source": [
        "df.shape"
      ]
    },
    {
      "cell_type": "code",
      "execution_count": null,
      "metadata": {
        "colab": {
          "base_uri": "https://localhost:8080/",
          "height": 178
        },
        "id": "trWKIo8oF4ww",
        "outputId": "62b0275a-142a-466e-fe1b-5bbb1964c160"
      },
      "outputs": [
        {
          "data": {
            "text/html": [
              "<div>\n",
              "<style scoped>\n",
              "    .dataframe tbody tr th:only-of-type {\n",
              "        vertical-align: middle;\n",
              "    }\n",
              "\n",
              "    .dataframe tbody tr th {\n",
              "        vertical-align: top;\n",
              "    }\n",
              "\n",
              "    .dataframe thead th {\n",
              "        text-align: right;\n",
              "    }\n",
              "</style>\n",
              "<table border=\"1\" class=\"dataframe\">\n",
              "  <thead>\n",
              "    <tr style=\"text-align: right;\">\n",
              "      <th></th>\n",
              "      <th>count</th>\n",
              "    </tr>\n",
              "    <tr>\n",
              "      <th>verdict_label</th>\n",
              "      <th></th>\n",
              "    </tr>\n",
              "  </thead>\n",
              "  <tbody>\n",
              "    <tr>\n",
              "      <th>0</th>\n",
              "      <td>1024</td>\n",
              "    </tr>\n",
              "    <tr>\n",
              "      <th>1</th>\n",
              "      <td>1024</td>\n",
              "    </tr>\n",
              "  </tbody>\n",
              "</table>\n",
              "</div><br><label><b>dtype:</b> int64</label>"
            ],
            "text/plain": [
              "verdict_label\n",
              "0    1024\n",
              "1    1024\n",
              "Name: count, dtype: int64"
            ]
          },
          "execution_count": 9,
          "metadata": {},
          "output_type": "execute_result"
        }
      ],
      "source": [
        "df['verdict_label'].value_counts()"
      ]
    },
    {
      "cell_type": "code",
      "execution_count": null,
      "metadata": {
        "colab": {
          "base_uri": "https://localhost:8080/"
        },
        "id": "kePz6dgQF4wx",
        "outputId": "3e987098-77c3-47a3-8388-e94b05a7bb47"
      },
      "outputs": [
        {
          "data": {
            "text/plain": [
              "array([0, 1])"
            ]
          },
          "execution_count": 10,
          "metadata": {},
          "output_type": "execute_result"
        }
      ],
      "source": [
        "df['verdict_label'].unique()"
      ]
    },
    {
      "cell_type": "code",
      "execution_count": null,
      "metadata": {
        "colab": {
          "base_uri": "https://localhost:8080/"
        },
        "id": "8Pd49ZdB7WGK",
        "outputId": "3585290a-6352-4aee-c2de-b474682b4fbb"
      },
      "outputs": [
        {
          "data": {
            "text/plain": [
              "np.True_"
            ]
          },
          "execution_count": 11,
          "metadata": {},
          "output_type": "execute_result"
        }
      ],
      "source": [
        "# this is used to check for duplicate values: if any exists or not\n",
        "df.duplicated().any()"
      ]
    },
    {
      "cell_type": "code",
      "execution_count": null,
      "metadata": {
        "id": "nNgojmwdF4w1"
      },
      "outputs": [],
      "source": [
        "# used to remove duplicate values\n",
        "df.drop_duplicates(inplace=True)"
      ]
    },
    {
      "cell_type": "code",
      "execution_count": null,
      "metadata": {
        "colab": {
          "base_uri": "https://localhost:8080/",
          "height": 178
        },
        "id": "iCh1LU94F4w2",
        "outputId": "386928d0-4cf0-42dc-8418-848fa47e1038"
      },
      "outputs": [
        {
          "data": {
            "text/html": [
              "<div>\n",
              "<style scoped>\n",
              "    .dataframe tbody tr th:only-of-type {\n",
              "        vertical-align: middle;\n",
              "    }\n",
              "\n",
              "    .dataframe tbody tr th {\n",
              "        vertical-align: top;\n",
              "    }\n",
              "\n",
              "    .dataframe thead th {\n",
              "        text-align: right;\n",
              "    }\n",
              "</style>\n",
              "<table border=\"1\" class=\"dataframe\">\n",
              "  <thead>\n",
              "    <tr style=\"text-align: right;\">\n",
              "      <th></th>\n",
              "      <th>count</th>\n",
              "    </tr>\n",
              "    <tr>\n",
              "      <th>verdict_label</th>\n",
              "      <th></th>\n",
              "    </tr>\n",
              "  </thead>\n",
              "  <tbody>\n",
              "    <tr>\n",
              "      <th>0</th>\n",
              "      <td>1024</td>\n",
              "    </tr>\n",
              "    <tr>\n",
              "      <th>1</th>\n",
              "      <td>1023</td>\n",
              "    </tr>\n",
              "  </tbody>\n",
              "</table>\n",
              "</div><br><label><b>dtype:</b> int64</label>"
            ],
            "text/plain": [
              "verdict_label\n",
              "0    1024\n",
              "1    1023\n",
              "Name: count, dtype: int64"
            ]
          },
          "execution_count": 13,
          "metadata": {},
          "output_type": "execute_result"
        }
      ],
      "source": [
        "# used to count values of unique elements in df['verdict_label'] column.\n",
        "df['verdict_label'].value_counts()"
      ]
    },
    {
      "cell_type": "code",
      "execution_count": null,
      "metadata": {
        "id": "Nh4QvWVjF4w9"
      },
      "outputs": [],
      "source": [
        "# balancing dataset by removing a row from dataframe where label value is 0\n",
        "index_to_drop = df[df['verdict_label'] == 0].index[0]\n",
        "df = df.drop(index_to_drop)"
      ]
    },
    {
      "cell_type": "code",
      "execution_count": null,
      "metadata": {
        "colab": {
          "base_uri": "https://localhost:8080/",
          "height": 178
        },
        "id": "UrdZsxAGF4w-",
        "outputId": "4057d5ed-27e6-4dcb-8c2a-2d8e8d0ae8f6"
      },
      "outputs": [
        {
          "data": {
            "text/html": [
              "<div>\n",
              "<style scoped>\n",
              "    .dataframe tbody tr th:only-of-type {\n",
              "        vertical-align: middle;\n",
              "    }\n",
              "\n",
              "    .dataframe tbody tr th {\n",
              "        vertical-align: top;\n",
              "    }\n",
              "\n",
              "    .dataframe thead th {\n",
              "        text-align: right;\n",
              "    }\n",
              "</style>\n",
              "<table border=\"1\" class=\"dataframe\">\n",
              "  <thead>\n",
              "    <tr style=\"text-align: right;\">\n",
              "      <th></th>\n",
              "      <th>count</th>\n",
              "    </tr>\n",
              "    <tr>\n",
              "      <th>verdict_label</th>\n",
              "      <th></th>\n",
              "    </tr>\n",
              "  </thead>\n",
              "  <tbody>\n",
              "    <tr>\n",
              "      <th>0</th>\n",
              "      <td>1023</td>\n",
              "    </tr>\n",
              "    <tr>\n",
              "      <th>1</th>\n",
              "      <td>1023</td>\n",
              "    </tr>\n",
              "  </tbody>\n",
              "</table>\n",
              "</div><br><label><b>dtype:</b> int64</label>"
            ],
            "text/plain": [
              "verdict_label\n",
              "0    1023\n",
              "1    1023\n",
              "Name: count, dtype: int64"
            ]
          },
          "execution_count": 15,
          "metadata": {},
          "output_type": "execute_result"
        }
      ],
      "source": [
        "# this shows balanced df\n",
        "df['verdict_label'].value_counts()"
      ]
    },
    {
      "cell_type": "markdown",
      "metadata": {
        "id": "eEld_6jMMz8l"
      },
      "source": [
        "Loading pretrained tokenizer and model"
      ]
    },
    {
      "cell_type": "code",
      "execution_count": null,
      "metadata": {
        "colab": {
          "base_uri": "https://localhost:8080/"
        },
        "id": "vN8MzTX3h0Vj",
        "outputId": "5e4aef90-5944-407c-9f71-ebd990e92eac"
      },
      "outputs": [
        {
          "name": "stderr",
          "output_type": "stream",
          "text": [
            "Some weights of BertForSequenceClassification were not initialized from the model checkpoint at /content/drive/My Drive/Colab Notebooks/colab_libs/bert-base-uncased/MYBERTmodel and are newly initialized: ['classifier.bias', 'classifier.weight']\n",
            "You should probably TRAIN this model on a down-stream task to be able to use it for predictions and inference.\n"
          ]
        }
      ],
      "source": [
        "from transformers import AutoTokenizer, AutoModelForSequenceClassification\n",
        "\n",
        "# this navigates into directory containing:'config.json','pytorch_model.bin','vocab.txt','tokenizer_config.json'; making the local files accessible to colab\n",
        "model_dir = '/content/drive/My Drive/Colab Notebooks/colab_libs/bert-base-uncased/MYBERTmodel'\n",
        "\n",
        "tokenizer = AutoTokenizer.from_pretrained(model_dir)\n",
        "model = AutoModelForSequenceClassification.from_pretrained(model_dir, num_labels=2)"
      ]
    },
    {
      "cell_type": "code",
      "execution_count": null,
      "metadata": {
        "id": "i3qq7zs9F4xA"
      },
      "outputs": [],
      "source": [
        "from sklearn.model_selection import train_test_split"
      ]
    },
    {
      "cell_type": "code",
      "execution_count": null,
      "metadata": {
        "colab": {
          "base_uri": "https://localhost:8080/"
        },
        "id": "6YWPYqVHfdv4",
        "outputId": "f53889e8-5d07-441b-8291-fa6cd37194f9"
      },
      "outputs": [
        {
          "data": {
            "text/plain": [
              "Index(['cleaned_body', 'verdict_label'], dtype='object')"
            ]
          },
          "execution_count": 25,
          "metadata": {},
          "output_type": "execute_result"
        }
      ],
      "source": [
        "df.columns"
      ]
    },
    {
      "cell_type": "code",
      "execution_count": null,
      "metadata": {
        "colab": {
          "base_uri": "https://localhost:8080/"
        },
        "id": "jN2yky0OXbF4",
        "outputId": "627b3f36-ddfe-49be-8786-14be5ec15cd4"
      },
      "outputs": [
        {
          "name": "stdout",
          "output_type": "stream",
          "text": [
            "shape of x_train:  (1636,)\n",
            "shape of x_test:  (410,)\n",
            "shape of y_train:  (1636,)\n",
            "shape of y_test:  (410,)\n"
          ]
        }
      ],
      "source": [
        "# using sklearn library to split dataframe into 80% training and 20% testing datasets\n",
        "x_train, x_test, y_train, y_test = train_test_split(df['cleaned_body'], df['verdict_label'], test_size=0.2, random_state=42, stratify=df['verdict_label'])\n",
        "print('shape of x_train: ', x_train.shape)\n",
        "print('shape of x_test: ', x_test.shape)\n",
        "print('shape of y_train: ', y_train.shape)\n",
        "print('shape of y_test: ', y_test.shape)"
      ]
    },
    {
      "cell_type": "code",
      "execution_count": null,
      "metadata": {
        "colab": {
          "base_uri": "https://localhost:8080/"
        },
        "id": "fMYAu0oOfSTJ",
        "outputId": "963d87b0-bcdb-4f85-fcc4-e5e0d513e96b"
      },
      "outputs": [
        {
          "data": {
            "text/plain": [
              "1636"
            ]
          },
          "execution_count": 27,
          "metadata": {},
          "output_type": "execute_result"
        }
      ],
      "source": [
        "len(x_train)"
      ]
    },
    {
      "cell_type": "code",
      "execution_count": null,
      "metadata": {
        "id": "5lzVO9NggIE4"
      },
      "outputs": [],
      "source": [
        "# useful to convert dataset to pytorch tokenized format\n",
        "x_train_tokenized = tokenizer(list(x_train), padding=True, truncation=True, return_tensors='pt')\n",
        "x_test_tokenized = tokenizer(list(x_test), padding=True, truncation=True, return_tensors='pt')"
      ]
    },
    {
      "cell_type": "code",
      "execution_count": null,
      "metadata": {
        "colab": {
          "base_uri": "https://localhost:8080/"
        },
        "id": "qRMCD-AWhjMg",
        "outputId": "41a2e2c6-929f-4309-c784-e87b162032ee"
      },
      "outputs": [
        {
          "data": {
            "text/plain": [
              "dict_keys(['input_ids', 'token_type_ids', 'attention_mask'])"
            ]
          },
          "execution_count": 29,
          "metadata": {},
          "output_type": "execute_result"
        }
      ],
      "source": [
        "x_train_tokenized.keys()"
      ]
    },
    {
      "cell_type": "code",
      "execution_count": null,
      "metadata": {
        "colab": {
          "base_uri": "https://localhost:8080/"
        },
        "id": "d5D0Ocm4hnqf",
        "outputId": "4ec2c11e-1339-463c-d14b-eaba5ced08e7"
      },
      "outputs": [
        {
          "data": {
            "text/plain": [
              "tensor([[  101,  4366,  1024,  ...,  2093,  3962,   102],\n",
              "        [  101,  4366,  1024,  ..., 12318, 24471,   102],\n",
              "        [  101,  4366,  1024,  ...,  3463,  2013,   102],\n",
              "        ...,\n",
              "        [  101,  4366,  1024,  ..., 13523, 20026,   102],\n",
              "        [  101,  4366,  1024,  ...,  2003,  1996,   102],\n",
              "        [  101,  4366,  1024,  ...,  9556,  2265,   102]])"
            ]
          },
          "execution_count": 30,
          "metadata": {},
          "output_type": "execute_result"
        }
      ],
      "source": [
        "x_train_tokenized['input_ids']"
      ]
    },
    {
      "cell_type": "code",
      "execution_count": null,
      "metadata": {
        "id": "F1A_PllYioSR"
      },
      "outputs": [],
      "source": [
        "# converts label dataset to pytorch tensor\n",
        "import torch\n",
        "\n",
        "y_train_tensor = torch.tensor(y_train.values)\n",
        "y_test_tensor = torch.tensor(y_test.values)"
      ]
    },
    {
      "cell_type": "code",
      "execution_count": null,
      "metadata": {
        "colab": {
          "base_uri": "https://localhost:8080/"
        },
        "id": "6hHKQq2il75u",
        "outputId": "7438badd-b8ae-4c38-eece-a6884b8ce62e"
      },
      "outputs": [
        {
          "data": {
            "text/plain": [
              "tensor([0, 0, 0,  ..., 0, 0, 1])"
            ]
          },
          "execution_count": 32,
          "metadata": {},
          "output_type": "execute_result"
        }
      ],
      "source": [
        "y_train_tensor"
      ]
    },
    {
      "cell_type": "code",
      "execution_count": null,
      "metadata": {
        "id": "mbGgmiQghsIB"
      },
      "outputs": [],
      "source": [
        "# pytorch's standard function for loading train and test dataset\n",
        "from torch.utils.data import Dataset, DataLoader\n",
        "\n",
        "class TextClassificationDataset(Dataset):\n",
        "        def __init__(self, tokenized_inputs, labels):\n",
        "            self.input_ids = tokenized_inputs['input_ids']\n",
        "            self.attention_mask = tokenized_inputs['attention_mask']\n",
        "            self.labels = labels\n",
        "\n",
        "        def __len__(self):\n",
        "            return len(self.labels)\n",
        "\n",
        "        def __getitem__(self, idx):\n",
        "            return {\n",
        "                'input_ids': self.input_ids[idx],\n",
        "                'attention_mask': self.attention_mask[idx],\n",
        "                'labels': self.labels[idx]\n",
        "            }\n",
        "\n",
        "# this creates pytorch recognized dataset using built \"TextClassificationDataset\" class\n",
        "train_dataset = TextClassificationDataset(x_train_tokenized, y_train_tensor)\n",
        "test_dataset = TextClassificationDataset(x_test_tokenized, y_test_tensor)\n",
        "\n",
        "# Create DataLoaders\n",
        "batch_size = 16 # adjustable\n",
        "train_dataloader = DataLoader(train_dataset, batch_size=batch_size, shuffle=True)\n",
        "test_dataloader = DataLoader(test_dataset, batch_size=batch_size, shuffle=False)"
      ]
    },
    {
      "cell_type": "code",
      "execution_count": 39,
      "metadata": {
        "colab": {
          "base_uri": "https://localhost:8080/"
        },
        "id": "SBBhFjcRO6PC",
        "outputId": "97bb0411-e886-4d88-a53c-391fcd4d8424"
      },
      "outputs": [
        {
          "name": "stdout",
          "output_type": "stream",
          "text": [
            "Epoch 1/3, Training Loss: 0.4028\n",
            "Epoch 1/3, Validation Loss: 0.4453, Validation Accuracy: 0.7951\n",
            "Epoch 2/3, Training Loss: 0.2381\n",
            "Epoch 2/3, Validation Loss: 0.5671, Validation Accuracy: 0.7707\n",
            "Epoch 3/3, Training Loss: 0.1492\n",
            "Epoch 3/3, Validation Loss: 0.6459, Validation Accuracy: 0.7732\n",
            "Training complete!\n"
          ]
        }
      ],
      "source": [
        "import torch\n",
        "from torch.optim import AdamW # Common optimizer for transformers\n",
        "from torch.nn import CrossEntropyLoss # Common loss for classification\n",
        "\n",
        "\n",
        "device = torch.device(\"cuda\" if torch.cuda.is_available() else \"cpu\")\n",
        "model.to(device) # Move model to GPU if available\n",
        "\n",
        "optimizer = AdamW(model.parameters(), lr=5e-5) # the learning rate can be tuned.\n",
        "loss_fn = CrossEntropyLoss() # BERT models often output logits, so CrossEntropyLoss is suitable\n",
        "\n",
        "num_epochs = 3 # the number of epochs can adjusted\n",
        "\n",
        "# creating a Training Loop\n",
        "for epoch in range(num_epochs):\n",
        "    model.train() # Set model to training mode\n",
        "    total_loss = 0\n",
        "\n",
        "    for batch in train_dataloader:\n",
        "        # Move batch to device\n",
        "        input_ids = batch['input_ids'].to(device)\n",
        "        attention_mask = batch['attention_mask'].to(device)\n",
        "        labels = batch['labels'].to(device)\n",
        "\n",
        "        # Forward Pass\n",
        "        outputs = model(input_ids=input_ids, attention_mask=attention_mask, labels=labels)\n",
        "\n",
        "        # Get loss from model output\n",
        "        loss = outputs.loss\n",
        "        total_loss += loss.item()\n",
        "\n",
        "        # Backward Pass\n",
        "        loss.backward()\n",
        "\n",
        "        # Optimizer Step\n",
        "        optimizer.step()\n",
        "\n",
        "        # Zero Gradients\n",
        "        optimizer.zero_grad()\n",
        "\n",
        "    avg_train_loss = total_loss / len(train_dataloader)\n",
        "    print(f\"Epoch {epoch+1}/{num_epochs}, Training Loss: {avg_train_loss:.4f}\")\n",
        "\n",
        "    # Evaluation Loop\n",
        "    model.eval() # Sets model to evaluation mode\n",
        "    total_eval_accuracy = 0\n",
        "    total_eval_loss = 0\n",
        "\n",
        "    with torch.no_grad(): # Disable gradient calculations for evaluation\n",
        "        for batch in test_dataloader:\n",
        "            # Move batch to device\n",
        "            input_ids = batch['input_ids'].to(device)\n",
        "            attention_mask = batch['attention_mask'].to(device)\n",
        "            labels = batch['labels'].to(device)\n",
        "\n",
        "            # Forward Pass\n",
        "            outputs = model(input_ids=input_ids, attention_mask=attention_mask, labels=labels)\n",
        "\n",
        "            # Get loss and logits\n",
        "            loss = outputs.loss\n",
        "            logits = outputs.logits\n",
        "\n",
        "            total_eval_loss += loss.item()\n",
        "\n",
        "            # Calculate accuracy\n",
        "            predictions = torch.argmax(logits, dim=-1)\n",
        "            accuracy = (predictions == labels).sum().item()\n",
        "            total_eval_accuracy += accuracy\n",
        "\n",
        "    avg_eval_loss = total_eval_loss / len(test_dataloader)\n",
        "    avg_eval_accuracy = total_eval_accuracy / len(test_dataset)\n",
        "\n",
        "    print(f\"Epoch {epoch+1}/{num_epochs}, Validation Loss: {avg_eval_loss:.4f}, Validation Accuracy: {avg_eval_accuracy:.4f}\")\n",
        "\n",
        "print(\"Training complete!\")"
      ]
    },
    {
      "cell_type": "code",
      "execution_count": 42,
      "metadata": {
        "colab": {
          "base_uri": "https://localhost:8080/"
        },
        "id": "qXFPy26GZVkT",
        "outputId": "0f6a571b-2c39-43a8-957b-dff0da4faa2b"
      },
      "outputs": [
        {
          "name": "stdout",
          "output_type": "stream",
          "text": [
            "The text is predicted as: true\n",
            "Probabilities: [[0.07983937114477158, 0.9201606512069702]]\n"
          ]
        }
      ],
      "source": [
        "# evaluating the model's performance using sample text\n",
        "model.eval()\n",
        "\n",
        "# Example text to predict\n",
        "text_to_predict = 'Nnamdi kanu the leader of IPOB according to recent rumored news is claimed to be dead'\n",
        "\n",
        "# Use the same tokenizer used during training\n",
        "text_tokenized = tokenizer(text_to_predict, padding=True, truncation=True, return_tensors='pt')\n",
        "\n",
        "# Convert to tensors and Move to the device\n",
        "# Move the tokenized inputs to the same device as the model\n",
        "input_ids = text_tokenized['input_ids'].to(device)\n",
        "attention_mask = text_tokenized['attention_mask'].to(device)\n",
        "\n",
        "\n",
        "with torch.no_grad(): # Disable gradient calculations for prediction\n",
        "    outputs = model(input_ids=input_ids, attention_mask=attention_mask)\n",
        "\n",
        "# Get the logits\n",
        "logits = outputs.logits\n",
        "\n",
        "# used to Interpret the output\n",
        "# Apply softmax to convert logits to probabilities\n",
        "probabilities = torch.softmax(logits, dim=1)\n",
        "\n",
        "# Get the predicted class (the one with the highest probability)\n",
        "predicted_class_index = torch.argmax(probabilities, dim=1).item()\n",
        "\n",
        "# You can map the class index back to your labels ('true' or 'false')\n",
        "# Assuming 0 corresponds to 'false' and 1 corresponds to 'true' based on your data processing\n",
        "predicted_label = 'true' if predicted_class_index == 1 else 'false'\n",
        "\n",
        "print(f\"The text is predicted as: {predicted_label}\")\n",
        "print(f\"Probabilities: {probabilities.tolist()}\")"
      ]
    },
    {
      "cell_type": "code",
      "execution_count": 43,
      "metadata": {
        "colab": {
          "base_uri": "https://localhost:8080/"
        },
        "id": "CzA8rNWTu3uO",
        "outputId": "c36145e4-5f40-41df-ae5d-be7dacc0ae64"
      },
      "outputs": [
        {
          "name": "stdout",
          "output_type": "stream",
          "text": [
            "Model saved to /content/drive/My Drive/Colab Notebooks/trained_model/news_classifier.pth\n"
          ]
        }
      ],
      "source": [
        "import torch\n",
        "\n",
        "# path where the model is to be saved\n",
        "save_path = '/content/drive/My Drive/Colab Notebooks/trained_model/news_classifier.pth'\n",
        "\n",
        "import os\n",
        "os.makedirs(os.path.dirname(save_path), exist_ok=True)\n",
        "\n",
        "# Save the model's state dictionary\n",
        "torch.save(model.state_dict(), save_path)\n",
        "\n",
        "print(f\"Model saved to {save_path}\")"
      ]
    }
  ],
  "metadata": {
    "accelerator": "GPU",
    "colab": {
      "gpuType": "T4",
      "provenance": []
    },
    "kernelspec": {
      "display_name": "fakenews_venv",
      "language": "python",
      "name": "python3"
    },
    "language_info": {
      "codemirror_mode": {
        "name": "ipython",
        "version": 3
      },
      "file_extension": ".py",
      "mimetype": "text/x-python",
      "name": "python",
      "nbconvert_exporter": "python",
      "pygments_lexer": "ipython3",
      "version": "3.13.1"
    }
  },
  "nbformat": 4,
  "nbformat_minor": 0
}
