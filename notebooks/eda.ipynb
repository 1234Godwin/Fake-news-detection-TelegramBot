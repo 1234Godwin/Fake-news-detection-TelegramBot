{
 "cells": [
  {
   "cell_type": "markdown",
   "metadata": {},
   "source": [
    "### Import required libraries"
   ]
  },
  {
   "cell_type": "code",
   "execution_count": 18,
   "metadata": {},
   "outputs": [],
   "source": [
    "import pandas as pd\n",
    "import numpy as np\n",
    "import re\n",
    "#import matplotlib.pyplot as plt\n",
    "#import seaborn as sns\n",
    "#from sklearn.model_selection import train_test_split\n"
   ]
  },
  {
   "cell_type": "markdown",
   "metadata": {},
   "source": [
    "### Load data"
   ]
  },
  {
   "cell_type": "code",
   "execution_count": 2,
   "metadata": {},
   "outputs": [
    {
     "data": {
      "text/html": [
       "<div>\n",
       "<style scoped>\n",
       "    .dataframe tbody tr th:only-of-type {\n",
       "        vertical-align: middle;\n",
       "    }\n",
       "\n",
       "    .dataframe tbody tr th {\n",
       "        vertical-align: top;\n",
       "    }\n",
       "\n",
       "    .dataframe thead th {\n",
       "        text-align: right;\n",
       "    }\n",
       "</style>\n",
       "<table border=\"1\" class=\"dataframe\">\n",
       "  <thead>\n",
       "    <tr style=\"text-align: right;\">\n",
       "      <th></th>\n",
       "      <th>date</th>\n",
       "      <th>title</th>\n",
       "      <th>verdict</th>\n",
       "      <th>body</th>\n",
       "      <th>label</th>\n",
       "    </tr>\n",
       "  </thead>\n",
       "  <tbody>\n",
       "    <tr>\n",
       "      <th>0</th>\n",
       "      <td>31-Mar-25</td>\n",
       "      <td>Kenyan president has not asked Nigerian govern...</td>\n",
       "      <td>Posts on Facebook claim that Kenyan president ...</td>\n",
       "      <td>Kenyan president William Ruto has asked the Ni...</td>\n",
       "      <td>False</td>\n",
       "    </tr>\n",
       "    <tr>\n",
       "      <th>1</th>\n",
       "      <td>24-Mar-25</td>\n",
       "      <td>No, chairperson of Nigeria’s main opposition P...</td>\n",
       "      <td>Nigeria’s Peoples Democratic Party is experien...</td>\n",
       "      <td>The  Peoples Democratic Party  (PDP), Nigeria’...</td>\n",
       "      <td>False</td>\n",
       "    </tr>\n",
       "    <tr>\n",
       "      <th>2</th>\n",
       "      <td>24-Mar-25</td>\n",
       "      <td>No evidence Nigeria’s Enugu state plans to ban...</td>\n",
       "      <td>Some Facebook posts in Nigeria claim that the ...</td>\n",
       "      <td>Several posts on Facebook in Nigeria claim tha...</td>\n",
       "      <td>False</td>\n",
       "    </tr>\n",
       "    <tr>\n",
       "      <th>3</th>\n",
       "      <td>27-Mar-25</td>\n",
       "      <td>Nigeria’s former president Obasanjo did not ad...</td>\n",
       "      <td>Several Facebook posts claim that former Niger...</td>\n",
       "      <td>Nigeria’s former president  Olusegun Obasanjo ...</td>\n",
       "      <td>False</td>\n",
       "    </tr>\n",
       "    <tr>\n",
       "      <th>4</th>\n",
       "      <td>14-Mar-25</td>\n",
       "      <td>No, HIV-positive patients in Nigeria won’t hav...</td>\n",
       "      <td>US president Donald Trump’s decision to tempor...</td>\n",
       "      <td>Donald Trump  was  sworn in  as president of t...</td>\n",
       "      <td>False</td>\n",
       "    </tr>\n",
       "  </tbody>\n",
       "</table>\n",
       "</div>"
      ],
      "text/plain": [
       "        date                                              title  \\\n",
       "0  31-Mar-25  Kenyan president has not asked Nigerian govern...   \n",
       "1  24-Mar-25  No, chairperson of Nigeria’s main opposition P...   \n",
       "2  24-Mar-25  No evidence Nigeria’s Enugu state plans to ban...   \n",
       "3  27-Mar-25  Nigeria’s former president Obasanjo did not ad...   \n",
       "4  14-Mar-25  No, HIV-positive patients in Nigeria won’t hav...   \n",
       "\n",
       "                                             verdict  \\\n",
       "0  Posts on Facebook claim that Kenyan president ...   \n",
       "1  Nigeria’s Peoples Democratic Party is experien...   \n",
       "2  Some Facebook posts in Nigeria claim that the ...   \n",
       "3  Several Facebook posts claim that former Niger...   \n",
       "4  US president Donald Trump’s decision to tempor...   \n",
       "\n",
       "                                                body  label  \n",
       "0  Kenyan president William Ruto has asked the Ni...  False  \n",
       "1  The  Peoples Democratic Party  (PDP), Nigeria’...  False  \n",
       "2  Several posts on Facebook in Nigeria claim tha...  False  \n",
       "3  Nigeria’s former president  Olusegun Obasanjo ...  False  \n",
       "4  Donald Trump  was  sworn in  as president of t...  False  "
      ]
     },
     "execution_count": 2,
     "metadata": {},
     "output_type": "execute_result"
    }
   ],
   "source": [
    "df_africacheck_dataset = pd.read_csv(r'C:\\Users\\RECDOT\\Desktop\\chiemelie\\Data_Science\\AWS_PROJECT\\Nigerian-fake-news-detection\\data\\raw\\africacheck_df.csv')\n",
    "df_africacheck_dataset.head()"
   ]
  },
  {
   "cell_type": "code",
   "execution_count": 3,
   "metadata": {},
   "outputs": [
    {
     "data": {
      "text/html": [
       "<div>\n",
       "<style scoped>\n",
       "    .dataframe tbody tr th:only-of-type {\n",
       "        vertical-align: middle;\n",
       "    }\n",
       "\n",
       "    .dataframe tbody tr th {\n",
       "        vertical-align: top;\n",
       "    }\n",
       "\n",
       "    .dataframe thead th {\n",
       "        text-align: right;\n",
       "    }\n",
       "</style>\n",
       "<table border=\"1\" class=\"dataframe\">\n",
       "  <thead>\n",
       "    <tr style=\"text-align: right;\">\n",
       "      <th></th>\n",
       "      <th>date</th>\n",
       "      <th>title</th>\n",
       "      <th>verdict</th>\n",
       "      <th>body</th>\n",
       "      <th>label</th>\n",
       "    </tr>\n",
       "  </thead>\n",
       "  <tbody>\n",
       "    <tr>\n",
       "      <th>0</th>\n",
       "      <td>9-Sep-20</td>\n",
       "      <td>An initiative for university graduates promote...</td>\n",
       "      <td>The claim is misleading. The NUC is not giving...</td>\n",
       "      <td>A viral WhatsApp post claims that the National...</td>\n",
       "      <td>False</td>\n",
       "    </tr>\n",
       "    <tr>\n",
       "      <th>1</th>\n",
       "      <td>21-Sep-20</td>\n",
       "      <td>Nigeria Not Ranked Third Most Terrorised Count...</td>\n",
       "      <td>This statement is, however, false and misleadi...</td>\n",
       "      <td>Claim : Television Continental (TVC), a channe...</td>\n",
       "      <td>False</td>\n",
       "    </tr>\n",
       "    <tr>\n",
       "      <th>2</th>\n",
       "      <td>21-Sep-20</td>\n",
       "      <td>‘Akwa Ibom Kingdom’ is not the fifth largest n...</td>\n",
       "      <td>FALSE. Akwa Abasi Ibom kingdom does not exist.</td>\n",
       "      <td>A user on an online community claims that Akwa...</td>\n",
       "      <td>False</td>\n",
       "    </tr>\n",
       "  </tbody>\n",
       "</table>\n",
       "</div>"
      ],
      "text/plain": [
       "        date                                              title  \\\n",
       "0   9-Sep-20  An initiative for university graduates promote...   \n",
       "1  21-Sep-20  Nigeria Not Ranked Third Most Terrorised Count...   \n",
       "2  21-Sep-20  ‘Akwa Ibom Kingdom’ is not the fifth largest n...   \n",
       "\n",
       "                                             verdict  \\\n",
       "0  The claim is misleading. The NUC is not giving...   \n",
       "1  This statement is, however, false and misleadi...   \n",
       "2     FALSE. Akwa Abasi Ibom kingdom does not exist.   \n",
       "\n",
       "                                                body  label  \n",
       "0  A viral WhatsApp post claims that the National...  False  \n",
       "1  Claim : Television Continental (TVC), a channe...  False  \n",
       "2  A user on an online community claims that Akwa...  False  "
      ]
     },
     "execution_count": 3,
     "metadata": {},
     "output_type": "execute_result"
    }
   ],
   "source": [
    "df_dubawa_dataset = pd.read_csv(r'C:\\Users\\RECDOT\\Desktop\\chiemelie\\Data_Science\\AWS_PROJECT\\Nigerian-fake-news-detection\\data\\raw\\dubawa_df.csv')\n",
    "df_dubawa_dataset.head(3)"
   ]
  },
  {
   "cell_type": "code",
   "execution_count": 4,
   "metadata": {},
   "outputs": [
    {
     "data": {
      "text/plain": [
       "(1876, 5)"
      ]
     },
     "execution_count": 4,
     "metadata": {},
     "output_type": "execute_result"
    }
   ],
   "source": [
    "df_dubawa_dataset.shape"
   ]
  },
  {
   "cell_type": "code",
   "execution_count": 5,
   "metadata": {},
   "outputs": [
    {
     "data": {
      "text/plain": [
       "(172, 5)"
      ]
     },
     "execution_count": 5,
     "metadata": {},
     "output_type": "execute_result"
    }
   ],
   "source": [
    "df_africacheck_dataset.shape"
   ]
  },
  {
   "cell_type": "code",
   "execution_count": 6,
   "metadata": {},
   "outputs": [
    {
     "data": {
      "text/html": [
       "<div>\n",
       "<style scoped>\n",
       "    .dataframe tbody tr th:only-of-type {\n",
       "        vertical-align: middle;\n",
       "    }\n",
       "\n",
       "    .dataframe tbody tr th {\n",
       "        vertical-align: top;\n",
       "    }\n",
       "\n",
       "    .dataframe thead th {\n",
       "        text-align: right;\n",
       "    }\n",
       "</style>\n",
       "<table border=\"1\" class=\"dataframe\">\n",
       "  <thead>\n",
       "    <tr style=\"text-align: right;\">\n",
       "      <th></th>\n",
       "      <th>date</th>\n",
       "      <th>title</th>\n",
       "      <th>verdict</th>\n",
       "      <th>body</th>\n",
       "      <th>label</th>\n",
       "    </tr>\n",
       "  </thead>\n",
       "  <tbody>\n",
       "    <tr>\n",
       "      <th>0</th>\n",
       "      <td>31-Mar-25</td>\n",
       "      <td>Kenyan president has not asked Nigerian govern...</td>\n",
       "      <td>Posts on Facebook claim that Kenyan president ...</td>\n",
       "      <td>Kenyan president William Ruto has asked the Ni...</td>\n",
       "      <td>False</td>\n",
       "    </tr>\n",
       "    <tr>\n",
       "      <th>1</th>\n",
       "      <td>24-Mar-25</td>\n",
       "      <td>No, chairperson of Nigeria’s main opposition P...</td>\n",
       "      <td>Nigeria’s Peoples Democratic Party is experien...</td>\n",
       "      <td>The  Peoples Democratic Party  (PDP), Nigeria’...</td>\n",
       "      <td>False</td>\n",
       "    </tr>\n",
       "    <tr>\n",
       "      <th>2</th>\n",
       "      <td>24-Mar-25</td>\n",
       "      <td>No evidence Nigeria’s Enugu state plans to ban...</td>\n",
       "      <td>Some Facebook posts in Nigeria claim that the ...</td>\n",
       "      <td>Several posts on Facebook in Nigeria claim tha...</td>\n",
       "      <td>False</td>\n",
       "    </tr>\n",
       "    <tr>\n",
       "      <th>3</th>\n",
       "      <td>27-Mar-25</td>\n",
       "      <td>Nigeria’s former president Obasanjo did not ad...</td>\n",
       "      <td>Several Facebook posts claim that former Niger...</td>\n",
       "      <td>Nigeria’s former president  Olusegun Obasanjo ...</td>\n",
       "      <td>False</td>\n",
       "    </tr>\n",
       "    <tr>\n",
       "      <th>4</th>\n",
       "      <td>14-Mar-25</td>\n",
       "      <td>No, HIV-positive patients in Nigeria won’t hav...</td>\n",
       "      <td>US president Donald Trump’s decision to tempor...</td>\n",
       "      <td>Donald Trump  was  sworn in  as president of t...</td>\n",
       "      <td>False</td>\n",
       "    </tr>\n",
       "  </tbody>\n",
       "</table>\n",
       "</div>"
      ],
      "text/plain": [
       "        date                                              title  \\\n",
       "0  31-Mar-25  Kenyan president has not asked Nigerian govern...   \n",
       "1  24-Mar-25  No, chairperson of Nigeria’s main opposition P...   \n",
       "2  24-Mar-25  No evidence Nigeria’s Enugu state plans to ban...   \n",
       "3  27-Mar-25  Nigeria’s former president Obasanjo did not ad...   \n",
       "4  14-Mar-25  No, HIV-positive patients in Nigeria won’t hav...   \n",
       "\n",
       "                                             verdict  \\\n",
       "0  Posts on Facebook claim that Kenyan president ...   \n",
       "1  Nigeria’s Peoples Democratic Party is experien...   \n",
       "2  Some Facebook posts in Nigeria claim that the ...   \n",
       "3  Several Facebook posts claim that former Niger...   \n",
       "4  US president Donald Trump’s decision to tempor...   \n",
       "\n",
       "                                                body  label  \n",
       "0  Kenyan president William Ruto has asked the Ni...  False  \n",
       "1  The  Peoples Democratic Party  (PDP), Nigeria’...  False  \n",
       "2  Several posts on Facebook in Nigeria claim tha...  False  \n",
       "3  Nigeria’s former president  Olusegun Obasanjo ...  False  \n",
       "4  Donald Trump  was  sworn in  as president of t...  False  "
      ]
     },
     "execution_count": 6,
     "metadata": {},
     "output_type": "execute_result"
    }
   ],
   "source": [
    "# Joins the two data tables: df_africacheck_dataset and df_dubawa_dataset\n",
    "df = pd.concat([df_africacheck_dataset, df_dubawa_dataset], ignore_index=True)\n",
    "df.head()"
   ]
  },
  {
   "cell_type": "markdown",
   "metadata": {},
   "source": [
    "### Exploratory Data Analysis"
   ]
  },
  {
   "cell_type": "code",
   "execution_count": 7,
   "metadata": {},
   "outputs": [
    {
     "data": {
      "text/plain": [
       "(2048, 5)"
      ]
     },
     "execution_count": 7,
     "metadata": {},
     "output_type": "execute_result"
    }
   ],
   "source": [
    "df.shape"
   ]
  },
  {
   "cell_type": "code",
   "execution_count": 8,
   "metadata": {},
   "outputs": [
    {
     "data": {
      "text/plain": [
       "array([False,  True])"
      ]
     },
     "execution_count": 8,
     "metadata": {},
     "output_type": "execute_result"
    }
   ],
   "source": [
    "#checks for unique values in lable column of dataframe\n",
    "df['label'].unique()"
   ]
  },
  {
   "cell_type": "code",
   "execution_count": 9,
   "metadata": {},
   "outputs": [
    {
     "data": {
      "text/plain": [
       "date       0\n",
       "title      0\n",
       "verdict    0\n",
       "body       0\n",
       "label      0\n",
       "dtype: int64"
      ]
     },
     "execution_count": 9,
     "metadata": {},
     "output_type": "execute_result"
    }
   ],
   "source": [
    "# checks for any missing values in the dataframe\n",
    "df.isna().sum()"
   ]
  },
  {
   "cell_type": "code",
   "execution_count": 10,
   "metadata": {},
   "outputs": [
    {
     "data": {
      "text/plain": [
       "np.int64(0)"
      ]
     },
     "execution_count": 10,
     "metadata": {},
     "output_type": "execute_result"
    }
   ],
   "source": [
    "# checks for any duplicate values\n",
    "df.duplicated().sum()"
   ]
  },
  {
   "cell_type": "code",
   "execution_count": 11,
   "metadata": {},
   "outputs": [
    {
     "name": "stdout",
     "output_type": "stream",
     "text": [
      "<class 'pandas.core.frame.DataFrame'>\n",
      "RangeIndex: 2048 entries, 0 to 2047\n",
      "Data columns (total 5 columns):\n",
      " #   Column   Non-Null Count  Dtype \n",
      "---  ------   --------------  ----- \n",
      " 0   date     2048 non-null   object\n",
      " 1   title    2048 non-null   object\n",
      " 2   verdict  2048 non-null   object\n",
      " 3   body     2048 non-null   object\n",
      " 4   label    2048 non-null   bool  \n",
      "dtypes: bool(1), object(4)\n",
      "memory usage: 66.1+ KB\n"
     ]
    }
   ],
   "source": [
    "df.info()"
   ]
  },
  {
   "cell_type": "code",
   "execution_count": 12,
   "metadata": {},
   "outputs": [
    {
     "data": {
      "text/plain": [
       "date                                               22-Aug-24\n",
       "title      Nigerians beware, money app OPay not giving ou...\n",
       "verdict    Many OPay customers would welcome a N150,000 b...\n",
       "body       Several posts  on Facebook claim that  OPay  i...\n",
       "label                                                  False\n",
       "Name: 34, dtype: object"
      ]
     },
     "execution_count": 12,
     "metadata": {},
     "output_type": "execute_result"
    }
   ],
   "source": [
    "df.iloc[34]"
   ]
  },
  {
   "cell_type": "code",
   "execution_count": 13,
   "metadata": {},
   "outputs": [
    {
     "data": {
      "text/plain": [
       "label\n",
       "False    1024\n",
       "True     1024\n",
       "Name: count, dtype: int64"
      ]
     },
     "execution_count": 13,
     "metadata": {},
     "output_type": "execute_result"
    }
   ],
   "source": [
    "# checks for amount of 'false' and 'true' in df\n",
    "df['label'].value_counts()"
   ]
  },
  {
   "cell_type": "code",
   "execution_count": 14,
   "metadata": {},
   "outputs": [
    {
     "data": {
      "text/html": [
       "<div>\n",
       "<style scoped>\n",
       "    .dataframe tbody tr th:only-of-type {\n",
       "        vertical-align: middle;\n",
       "    }\n",
       "\n",
       "    .dataframe tbody tr th {\n",
       "        vertical-align: top;\n",
       "    }\n",
       "\n",
       "    .dataframe thead th {\n",
       "        text-align: right;\n",
       "    }\n",
       "</style>\n",
       "<table border=\"1\" class=\"dataframe\">\n",
       "  <thead>\n",
       "    <tr style=\"text-align: right;\">\n",
       "      <th></th>\n",
       "      <th>date</th>\n",
       "      <th>title</th>\n",
       "      <th>verdict</th>\n",
       "      <th>body</th>\n",
       "      <th>label</th>\n",
       "    </tr>\n",
       "  </thead>\n",
       "  <tbody>\n",
       "    <tr>\n",
       "      <th>808</th>\n",
       "      <td>27-Jul-24</td>\n",
       "      <td>Did Donald Trump announce Nigerians would no l...</td>\n",
       "      <td>Verdict: The video is a misleading AI-generate...</td>\n",
       "      <td>Claim: A YouTuber, MC Bobby Productions, poste...</td>\n",
       "      <td>False</td>\n",
       "    </tr>\n",
       "    <tr>\n",
       "      <th>1460</th>\n",
       "      <td>14-Mar-23</td>\n",
       "      <td>TRUE! Women representation in Sanwo-Olu’s cabi...</td>\n",
       "      <td>Verdict: TRUE.</td>\n",
       "      <td>Claim: Lagos state governor, Babajide Sanwo-Ol...</td>\n",
       "      <td>True</td>\n",
       "    </tr>\n",
       "    <tr>\n",
       "      <th>673</th>\n",
       "      <td>9-Apr-24</td>\n",
       "      <td>False! Baba Ijesha has not been released from ...</td>\n",
       "      <td>Verdict: False! The Nigerian Correctional Serv...</td>\n",
       "      <td>Claim: A Facebook account claimed that Nollywo...</td>\n",
       "      <td>False</td>\n",
       "    </tr>\n",
       "    <tr>\n",
       "      <th>1564</th>\n",
       "      <td>31-Aug-23</td>\n",
       "      <td>True! Liberia exported electricity to Ivory Co...</td>\n",
       "      <td>Verdict:</td>\n",
       "      <td>Claim: “Liberia exported electricity for the f...</td>\n",
       "      <td>True</td>\n",
       "    </tr>\n",
       "    <tr>\n",
       "      <th>997</th>\n",
       "      <td>17-Mar-25</td>\n",
       "      <td>Facebook video suggesting stampede for food, n...</td>\n",
       "      <td>Verdict: Misleading! The video was taken out o...</td>\n",
       "      <td>Claim: A Facebook user shared a video showing ...</td>\n",
       "      <td>False</td>\n",
       "    </tr>\n",
       "    <tr>\n",
       "      <th>1330</th>\n",
       "      <td>28-Nov-22</td>\n",
       "      <td>Misleading claim fruit extract cures cancer re...</td>\n",
       "      <td>Verdict</td>\n",
       "      <td>Claim : Fruit extract kills cancer in 48 hours...</td>\n",
       "      <td>True</td>\n",
       "    </tr>\n",
       "    <tr>\n",
       "      <th>1866</th>\n",
       "      <td>25-Sep-24</td>\n",
       "      <td>Viral video of Oshiomole’s rigging comment unr...</td>\n",
       "      <td>The claim reads, “BREAKING!!! FOR DEMOCRACY TO...</td>\n",
       "      <td>CLAIM : An X user, @TENIBEGILOJU202, shared a ...</td>\n",
       "      <td>True</td>\n",
       "    </tr>\n",
       "    <tr>\n",
       "      <th>1137</th>\n",
       "      <td>22-Jul-21</td>\n",
       "      <td>Nigeria Customs intercepted 200, 000 live ammu...</td>\n",
       "      <td>DUBAWA’s investigations revealed the incident ...</td>\n",
       "      <td>Claim: A viral report making the rounds on soc...</td>\n",
       "      <td>True</td>\n",
       "    </tr>\n",
       "    <tr>\n",
       "      <th>1155</th>\n",
       "      <td>18-Aug-21</td>\n",
       "      <td>Two tripoints, not a quadripoint exist at Kazu...</td>\n",
       "      <td>The</td>\n",
       "      <td>Claim: An image shared on Facebook claims Kazu...</td>\n",
       "      <td>True</td>\n",
       "    </tr>\n",
       "    <tr>\n",
       "      <th>1125</th>\n",
       "      <td>4-Jul-21</td>\n",
       "      <td>No evidence Buhari threatened local government...</td>\n",
       "      <td>There is no official confirmation or publicati...</td>\n",
       "      <td>Claim: A Facebook post, quoting a warning by P...</td>\n",
       "      <td>True</td>\n",
       "    </tr>\n",
       "  </tbody>\n",
       "</table>\n",
       "</div>"
      ],
      "text/plain": [
       "           date                                              title  \\\n",
       "808   27-Jul-24  Did Donald Trump announce Nigerians would no l...   \n",
       "1460  14-Mar-23  TRUE! Women representation in Sanwo-Olu’s cabi...   \n",
       "673    9-Apr-24  False! Baba Ijesha has not been released from ...   \n",
       "1564  31-Aug-23  True! Liberia exported electricity to Ivory Co...   \n",
       "997   17-Mar-25  Facebook video suggesting stampede for food, n...   \n",
       "1330  28-Nov-22  Misleading claim fruit extract cures cancer re...   \n",
       "1866  25-Sep-24  Viral video of Oshiomole’s rigging comment unr...   \n",
       "1137  22-Jul-21  Nigeria Customs intercepted 200, 000 live ammu...   \n",
       "1155  18-Aug-21  Two tripoints, not a quadripoint exist at Kazu...   \n",
       "1125   4-Jul-21  No evidence Buhari threatened local government...   \n",
       "\n",
       "                                                verdict  \\\n",
       "808   Verdict: The video is a misleading AI-generate...   \n",
       "1460                                     Verdict: TRUE.   \n",
       "673   Verdict: False! The Nigerian Correctional Serv...   \n",
       "1564                                           Verdict:   \n",
       "997   Verdict: Misleading! The video was taken out o...   \n",
       "1330                                            Verdict   \n",
       "1866  The claim reads, “BREAKING!!! FOR DEMOCRACY TO...   \n",
       "1137  DUBAWA’s investigations revealed the incident ...   \n",
       "1155                                                The   \n",
       "1125  There is no official confirmation or publicati...   \n",
       "\n",
       "                                                   body  label  \n",
       "808   Claim: A YouTuber, MC Bobby Productions, poste...  False  \n",
       "1460  Claim: Lagos state governor, Babajide Sanwo-Ol...   True  \n",
       "673   Claim: A Facebook account claimed that Nollywo...  False  \n",
       "1564  Claim: “Liberia exported electricity for the f...   True  \n",
       "997   Claim: A Facebook user shared a video showing ...  False  \n",
       "1330  Claim : Fruit extract kills cancer in 48 hours...   True  \n",
       "1866  CLAIM : An X user, @TENIBEGILOJU202, shared a ...   True  \n",
       "1137  Claim: A viral report making the rounds on soc...   True  \n",
       "1155  Claim: An image shared on Facebook claims Kazu...   True  \n",
       "1125  Claim: A Facebook post, quoting a warning by P...   True  "
      ]
     },
     "execution_count": 14,
     "metadata": {},
     "output_type": "execute_result"
    }
   ],
   "source": [
    "df.sample(10)"
   ]
  },
  {
   "cell_type": "code",
   "execution_count": 15,
   "metadata": {},
   "outputs": [
    {
     "data": {
      "text/plain": [
       "Index(['date', 'title', 'verdict', 'body', 'label'], dtype='object')"
      ]
     },
     "execution_count": 15,
     "metadata": {},
     "output_type": "execute_result"
    }
   ],
   "source": [
    "df.columns"
   ]
  },
  {
   "cell_type": "code",
   "execution_count": 16,
   "metadata": {},
   "outputs": [
    {
     "data": {
      "text/plain": [
       "date       object\n",
       "title      object\n",
       "verdict    object\n",
       "body       object\n",
       "label        bool\n",
       "dtype: object"
      ]
     },
     "execution_count": 16,
     "metadata": {},
     "output_type": "execute_result"
    }
   ],
   "source": [
    "df.dtypes"
   ]
  },
  {
   "cell_type": "code",
   "execution_count": 23,
   "metadata": {},
   "outputs": [
    {
     "data": {
      "text/plain": [
       "'Claim : A viral video of a man hitting a woman with a pressing iron is alleged to be the scene of Osinachi’s enduring domestic violence by her husband. Video of a man hitting a woman with a pressing iron that is alleged to be a scene of Osinachi’s enduring domestic violence by her husband is FALSE. The video has existed since 2020 and has been featured alongside different narratives. As such, this claim is false. Social media went agog with different narratives when late Nigerian gospel singer, Osinachi Nwachukwu, was announced dead at an Abuja hospital. Osinachi, who was the lead singer at the Dunamis International Gospel Centre, was initially said to have died from cancer of the throat. However, floods of information and testimonials from social media and some of her close family relatives later alleged the singer was killed by her husband on account of domestic violence which late Osinachi has long been enduring for some time. Fueled by this trend, a video of a man hitting a certain woman with a pressing iron surfaced on WhatsApp and other social media platforms. The footage depicts an apparently irate man hitting a woman with what appears to be a pressing iron. The helpless woman, who is heard screaming in the presence of crying children, is further chased by the man to another room, bringing the 11 seconds video to an abrupt end. The man\\xa0 is alleged to be Osinachi’s husband domestically abusing her and the caption also suggests the footage was covered by her son. “Video of Osinachi’s husband beating her, recorded by their son. How can a man being an animal be beating his wife this way, your woman mother of your children, how can this idiot deny that he didn’t have a hand in killing his wife Osinachi. Mr Peter Nwachukwu,” the attached caption points out. In one WhatsApp group where the video was shared, some users shared their disappointment with Osinachi’s husband, tagging him a “demon” and an “iron man” for beating her with pressing iron. “This man is a demon. How can you beat your wife with a pressing stone? No wonder she couldn’t survive it. May her soul rest in peace,” one user wrote. Since the passing of the gospel singer, multiple narratives have been flying around with no factual basis. While this is usual with trending events,\\xa0 some people can capitalise on it to propagate unfounded reality that may sometimes stir up fear or even rage in the society. When DUBAWA ran an analysis of the alleged footage on InVid Video verifier, results show the footage exists since 2020 with a different narrative that has nothing to do with the late gospel singer. In fact, DUBAWA traced the earliest appearance of the video to a Twitter user, David (@Davidnart) who shared the footage on June 21st, 2020 with the caption: “This is extremely wicked by this man. I hope he gets locked up for life. Wicked bastard.” Not just that, another Twitter user, z̲̣̥μ̥β̣̣̥γ (@zubykelz) on June 31st, 2020 also shared the footage with the narrative that the woman in the video has accused the man of rape and not domestic violence. “Seems Nigerians are confusing Domestic/Physical abuse (Domestic Violence) with Emotional/Sexual Abuse (Rape). For clarity… this video is a case of Domestic violence which she didnt accuse him of… she accused him of Rape. She hasn’t told us any incident of the Rape (s) though,” the caption says. The same video was also published in a report by Pulse.ng on June 23, 2020 with the headline: “Viral video of man hitting wife’s head with electric iron in front of kids sickens social media users.” The report details how the “unknown” man in the footage is beating up a woman with a pressing iron. Evidently,\\xa0none of the places the video was featured in 2020 mentioned the late popular gospel singer or her husband as the persons in the footage. The alleged video exists since 2020 and has been featured with different narratives that neither mention Osinachi nor her husband. As such, this claim is false.'"
      ]
     },
     "execution_count": 23,
     "metadata": {},
     "output_type": "execute_result"
    }
   ],
   "source": [
    "df.iloc[402]['body']"
   ]
  },
  {
   "cell_type": "markdown",
   "metadata": {},
   "source": [
    "### Text basic preprocessing"
   ]
  },
  {
   "cell_type": "code",
   "execution_count": null,
   "metadata": {},
   "outputs": [],
   "source": [
    "#removes none standard English characters\n",
    "def remove_unicode(text):\n",
    "    # Only keep ASCII characters (basic English + basic symbols)\n",
    "    text = text.encode('ascii', 'ignore').decode('ascii')\n",
    "    # Optional: clean up extra spaces\n",
    "    text = re.sub(r'\\s+', ' ', text).strip()\n",
    "    return text\n"
   ]
  },
  {
   "cell_type": "code",
   "execution_count": 40,
   "metadata": {},
   "outputs": [],
   "source": [
    "df['cleaned_body'] = df['body'].apply(remove_unicode)"
   ]
  },
  {
   "cell_type": "code",
   "execution_count": 61,
   "metadata": {},
   "outputs": [
    {
     "data": {
      "text/plain": [
       "\"Nigeria's 2023 presidential election remains  mired in controversy . The country's electoral body failed to  effectively implement  the  Bimodal Voter Accreditation System  (BVAS) and the  electronic transmission  of results. The  Independent National Electoral Commission  or Inec is responsible for conducting elections in Nigeria. Inec declared Bola Tinubu of the governing  All Progressives Congress  the winner of the race for president, but his rivals have  gone to court  over this.\\xa0 As the fallout continued, prominent politician Bode George  claimed in a television interview  that Femi Odubiyi, who he said was Inec's head of information technology, was behind the shutdown of BVAS servers during the election. George  said  Odubiyi was a former commissioner for science and technology in Tinubu’s administration. This would have been when Tinubu was governor of Lagos state from 1999 to 2007 The same claim appeared on Facebook  here ,  here ,  here  and  here . One of the posts  begins : “BOOM! INEC Head of ICT Femi Odubiyi Behind Shutdown of BVAS Servers on Election Day is Former Lagos Commissioner Under Tinubu.” But is this true? We checked.\\xa0 Femi Odubiyi  was the state’s commissioner of science and technology – but under the administration of Akinwunmi Ambode, who was governor from 2015 to 2018. And on 14 March 2023 Inec  denied claims  that it had appointed the former commissioner as its head of information and communication technology, or ICT.\\xa0 In a  statement  shared  on its verified Twitter handle , Inec said: “To set the record straight, the name ‘Femi Odubiyi’ does not even exist within our ICT Department at the INEC headquarters in Abuja or any State office of the Commission.” Inec said none of its staff had ever held any political position in the country and urged the public to disregard the claim.\""
      ]
     },
     "execution_count": 61,
     "metadata": {},
     "output_type": "execute_result"
    }
   ],
   "source": [
    "df.iloc[114]['body']"
   ]
  },
  {
   "cell_type": "code",
   "execution_count": 56,
   "metadata": {},
   "outputs": [
    {
     "data": {
      "text/plain": [
       "'Claim : A 13 seconds video shared on Twitter by Disclose. tv claims that President Biden said there is nothing we can do to change the trajectory of the pandemic in the next several months in a speech. The 13 seconds video that tagged President Biden as saying there is nothing we can do to change the trajectory of the pandemic in the next several months in a speech, was taken out of the context of a full length 18 minutes speech delivered by President Joe Biden on economic recovery plan. Hence this claim is misleading. On 20th January 2021, President Joe Biden was sworn in as the 46th U.S. President. Previous events that transpired before the swearing-in ceremony saw an avalanche of unprecedented issues that challenged the American democracy. Former President Trumps refusal to acknowledge the outcome of the election and the protest at the U.S. Capitol that saw protesters breaking into the building was the climax of it all. Though Bidens victory to the Presidency marked a new dawn for governance by the Democratic Party, it also seems to have come with a bundle of discourse and controversies. Just 2 days after Biden was inaugurated as President, Disclose tv shared a 13 seconds video on their Twitter handle, captioned: JUST IN- President Biden now says there is nothing we can do to change the trajectory of the pandemic in the next several months . The short video clip that depicted Biden saying those words appeared an irony to what he once promised Americans about the pandemic. President Biden who once heavily criticized Trump for his lack of plans and initiatives to combat the ravaging COVID-19 pandemic causing distress to Americans assured of better plans to curb the spread of the virus and the hardship it is causing Americans If he wins the elections. Thus, it was not surprising that when the video came on Twitter just two days after the inauguration attracted 3.6 million views, 6.2 thousand retweets, 12.9 thousand reactions, and over 10 thousand comments, it was even further featured on jewishbreakingnews Instagram and the Todd Starnes Show on Facebook with the same outlines captioned. Even more, a plethora of diverse opinions that followed the video on the comment section depicts multiple polarities; some users acknowledged the claim and criticized the President for not having a plan while others were speculative and skeptical of the information. A typical example is the user, Keith Maniac ( @CutItOutPutin) who in consensus with the claim commented that He harangued Trump all last year, made many pronouncements about getting the virus under control, then on day 2 of his administration, welp, nothing can be done! He will get zero pushback from the news media. While another user, ProgressiveE@mytruthxyz ( @missingahzu) shared a sense of skepticism to the claim Id want to see/hear the entirety of this statement it sounds like its being taken out of context Whatever the case may be, American politics has drawn worldwide attention in recent times perhaps because of its long-standing principles of an ideal democracy which has blossomed to become a standard for new democracies. Also, such information that has gained traction can easily mislead several people or planned unrest in a setting that is trying to regain its calm. It is on account of these realities that DUBAWA looks into this claim to clarify the narrative and identify the veracity of the viral information attributed to President Biden. When Dubawa accessed the full speech from where the claimant spooned, it turned out that Bidens statement was taken out of context to paint a rather bogus narrative. Though President Biden actually made the statement while delivering a speech, it turned out he was only making emphasis on what may happen if his economic recovery plan is not actualised earnestly. In fact, the speech was delivered by President Biden as a presentation of his plans to combat COVID-19 and the hardship it was unloading on the American people. It was also a justification of why he has resolved to sign an executive order to set the Economic Recovery Package plan into action. As regards President Biden and the actual context of the statement, there is nothing we can do to change the trajectory of the pandemic in the next several months it was stylized to paint a different narrative in contrast to his actual notions. It was explicitly identified in the complete video that lasted 18 minutes, where President Biden talked at length about why it was important to sign an executive order to adopt the economic recovery plan. His speech also explained how the economic recovery plan will provide bigger stimulus checks , more aid for the unemployed , the hungry , and those facing eviction . While also pledging more support for small businesses, states, and local governments; increased funding for vaccinations and testing. Unfortunately, It was in this context that the acclaimed statement was extracted to paint a rather contrary narrative. In the complete speech , where the acclaimed statement was taken from, Biden said: In just a few days, its just been a few days since I outlined this plan and its received bipartisan support from the majority of American mayors and governors. Businesses and labor organizations have together welcomed it as an urgent action thats needed. Even Wall Street firms have underscored its importance. In fact, an analysis by Moodys estimates that if we pass our American Rescue Plan, the economy would create 7.5 million jobs just in this year alone. President Joe Biden: (02:54) That would be on the way to more than 18 million, I think it was 18,600,000 jobs that they believe would be created over the four-year period with our Build Back Better recovery plan. And with our American Rescue Plan, our economy would return to full employment a full year faster than without the plan, even President Trumps. President Trumps now, not some liberal organization. President Trumps top former economic advisor, Kevin Hassett said, quote, He absolutely is in favor of this rescue plan. President Joe Biden: (03:28) This almost doesnt have a partisan piece to it. Were seeing the support because this plan takes a step that we so urgently need. More than just a step number of steps. It funds big parts of the COVID-19 national strategy that I released yesterday, we released yesterday. Our national strategy puts us on a war footing to aggressively speed up our COVID-19 response, especially on vaccines and testing and reopening our schools. President Joe Biden: (04:58) I found it fascinating yesterday, the press asked the question: is a 100 million enough? Week before they were saying, Biden, youre crazy. You cant do 100 million in 100 days. Well, were going to God-willing not only do 100 million, were going to do more than that, but we have to do this. We have to move. The American Rescue Plan also includes economic relief for most Americans who are in need. Were going to finish the job of getting a total of $2,000 in direct payments to folks. $600, which was already passed is simply not enough. If you still have to choose between paying your rent, putting food on the table, well extend unemployment insurance benefits for millions of workers beyond the deadline thats now set. President Joe Biden: (06:42) It means that 16 million Americans who are currently relying on unemployment benefits while they look for work can count on these checks continuing to be there in the middle of this crisis. The American Rescue Plan also addresses the growing housing crisis in America. Approximately 14 million Americans, 14 million have fallen behind on rent, and many risk eviction. If we fail to act, therell be a wave of evictions and foreclosures in the coming months as this pandemic rages on. Because theres nothing we can do to change the trajectory of the pandemic in the next several months. Evidently, the statement was taken out of context and stylized to suit a biased narrative. Sadly, the complete video did not attract even a thousand views as compared to the one under scrutiny. Information taken out of context can be used to mislead and paint an entirely different narrative as in this case. The Statement President Biden made was obviously taken out of context. After analyzing the complete speech, it turned out that Biden was only outlining a plan he intends to sign as an executive order to combat the crisis America currently faces, especially regarding the COVID-19 pandemic. This 13 seconds video taken out of a full length 18 minutes speech that was delivered by President Joe Biden is misleading.'"
      ]
     },
     "execution_count": 56,
     "metadata": {},
     "output_type": "execute_result"
    }
   ],
   "source": [
    "df.iloc[237]['cleaned_body']"
   ]
  },
  {
   "cell_type": "code",
   "execution_count": 64,
   "metadata": {},
   "outputs": [
    {
     "data": {
      "text/plain": [
       "0    Kenyan president William Ruto has asked the Ni...\n",
       "1    The Peoples Democratic Party (PDP), Nigerias m...\n",
       "2    Several posts on Facebook in Nigeria claim tha...\n",
       "3    Nigerias former president Olusegun Obasanjo vi...\n",
       "4    Donald Trump was sworn in as president of the ...\n",
       "Name: cleaned_body, dtype: object"
      ]
     },
     "execution_count": 64,
     "metadata": {},
     "output_type": "execute_result"
    }
   ],
   "source": [
    "df['cleaned_body'].head()"
   ]
  },
  {
   "cell_type": "code",
   "execution_count": 65,
   "metadata": {},
   "outputs": [
    {
     "data": {
      "text/plain": [
       "0    Kenyan president William Ruto has asked the Ni...\n",
       "1    The  Peoples Democratic Party  (PDP), Nigeria’...\n",
       "2    Several posts on Facebook in Nigeria claim tha...\n",
       "3    Nigeria’s former president  Olusegun Obasanjo ...\n",
       "4    Donald Trump  was  sworn in  as president of t...\n",
       "Name: body, dtype: object"
      ]
     },
     "execution_count": 65,
     "metadata": {},
     "output_type": "execute_result"
    }
   ],
   "source": [
    "df['body'].head()"
   ]
  },
  {
   "cell_type": "code",
   "execution_count": 41,
   "metadata": {},
   "outputs": [
    {
     "data": {
      "text/html": [
       "<div>\n",
       "<style scoped>\n",
       "    .dataframe tbody tr th:only-of-type {\n",
       "        vertical-align: middle;\n",
       "    }\n",
       "\n",
       "    .dataframe tbody tr th {\n",
       "        vertical-align: top;\n",
       "    }\n",
       "\n",
       "    .dataframe thead th {\n",
       "        text-align: right;\n",
       "    }\n",
       "</style>\n",
       "<table border=\"1\" class=\"dataframe\">\n",
       "  <thead>\n",
       "    <tr style=\"text-align: right;\">\n",
       "      <th></th>\n",
       "      <th>date</th>\n",
       "      <th>title</th>\n",
       "      <th>verdict</th>\n",
       "      <th>body</th>\n",
       "      <th>label</th>\n",
       "      <th>cleaned_body</th>\n",
       "    </tr>\n",
       "  </thead>\n",
       "  <tbody>\n",
       "    <tr>\n",
       "      <th>0</th>\n",
       "      <td>31-Mar-25</td>\n",
       "      <td>Kenyan president has not asked Nigerian govern...</td>\n",
       "      <td>Posts on Facebook claim that Kenyan president ...</td>\n",
       "      <td>Kenyan president William Ruto has asked the Ni...</td>\n",
       "      <td>False</td>\n",
       "      <td>Kenyan president William Ruto has asked the Ni...</td>\n",
       "    </tr>\n",
       "    <tr>\n",
       "      <th>1</th>\n",
       "      <td>24-Mar-25</td>\n",
       "      <td>No, chairperson of Nigeria’s main opposition P...</td>\n",
       "      <td>Nigeria’s Peoples Democratic Party is experien...</td>\n",
       "      <td>The  Peoples Democratic Party  (PDP), Nigeria’...</td>\n",
       "      <td>False</td>\n",
       "      <td>The Peoples Democratic Party (PDP), Nigerias m...</td>\n",
       "    </tr>\n",
       "    <tr>\n",
       "      <th>2</th>\n",
       "      <td>24-Mar-25</td>\n",
       "      <td>No evidence Nigeria’s Enugu state plans to ban...</td>\n",
       "      <td>Some Facebook posts in Nigeria claim that the ...</td>\n",
       "      <td>Several posts on Facebook in Nigeria claim tha...</td>\n",
       "      <td>False</td>\n",
       "      <td>Several posts on Facebook in Nigeria claim tha...</td>\n",
       "    </tr>\n",
       "    <tr>\n",
       "      <th>3</th>\n",
       "      <td>27-Mar-25</td>\n",
       "      <td>Nigeria’s former president Obasanjo did not ad...</td>\n",
       "      <td>Several Facebook posts claim that former Niger...</td>\n",
       "      <td>Nigeria’s former president  Olusegun Obasanjo ...</td>\n",
       "      <td>False</td>\n",
       "      <td>Nigerias former president Olusegun Obasanjo vi...</td>\n",
       "    </tr>\n",
       "    <tr>\n",
       "      <th>4</th>\n",
       "      <td>14-Mar-25</td>\n",
       "      <td>No, HIV-positive patients in Nigeria won’t hav...</td>\n",
       "      <td>US president Donald Trump’s decision to tempor...</td>\n",
       "      <td>Donald Trump  was  sworn in  as president of t...</td>\n",
       "      <td>False</td>\n",
       "      <td>Donald Trump was sworn in as president of the ...</td>\n",
       "    </tr>\n",
       "  </tbody>\n",
       "</table>\n",
       "</div>"
      ],
      "text/plain": [
       "        date                                              title  \\\n",
       "0  31-Mar-25  Kenyan president has not asked Nigerian govern...   \n",
       "1  24-Mar-25  No, chairperson of Nigeria’s main opposition P...   \n",
       "2  24-Mar-25  No evidence Nigeria’s Enugu state plans to ban...   \n",
       "3  27-Mar-25  Nigeria’s former president Obasanjo did not ad...   \n",
       "4  14-Mar-25  No, HIV-positive patients in Nigeria won’t hav...   \n",
       "\n",
       "                                             verdict  \\\n",
       "0  Posts on Facebook claim that Kenyan president ...   \n",
       "1  Nigeria’s Peoples Democratic Party is experien...   \n",
       "2  Some Facebook posts in Nigeria claim that the ...   \n",
       "3  Several Facebook posts claim that former Niger...   \n",
       "4  US president Donald Trump’s decision to tempor...   \n",
       "\n",
       "                                                body  label  \\\n",
       "0  Kenyan president William Ruto has asked the Ni...  False   \n",
       "1  The  Peoples Democratic Party  (PDP), Nigeria’...  False   \n",
       "2  Several posts on Facebook in Nigeria claim tha...  False   \n",
       "3  Nigeria’s former president  Olusegun Obasanjo ...  False   \n",
       "4  Donald Trump  was  sworn in  as president of t...  False   \n",
       "\n",
       "                                        cleaned_body  \n",
       "0  Kenyan president William Ruto has asked the Ni...  \n",
       "1  The Peoples Democratic Party (PDP), Nigerias m...  \n",
       "2  Several posts on Facebook in Nigeria claim tha...  \n",
       "3  Nigerias former president Olusegun Obasanjo vi...  \n",
       "4  Donald Trump was sworn in as president of the ...  "
      ]
     },
     "execution_count": 41,
     "metadata": {},
     "output_type": "execute_result"
    }
   ],
   "source": [
    "df.head()"
   ]
  },
  {
   "cell_type": "code",
   "execution_count": 68,
   "metadata": {},
   "outputs": [],
   "source": [
    "df.to_csv(r'C:\\Users\\RECDOT\\Desktop\\chiemelie\\Data_Science\\AWS_PROJECT\\Nigerian-fake-news-detection\\data\\clean\\df_clean.csv', index=False)"
   ]
  },
  {
   "cell_type": "code",
   "execution_count": null,
   "metadata": {},
   "outputs": [],
   "source": []
  }
 ],
 "metadata": {
  "kernelspec": {
   "display_name": "venv",
   "language": "python",
   "name": "python3"
  },
  "language_info": {
   "codemirror_mode": {
    "name": "ipython",
    "version": 3
   },
   "file_extension": ".py",
   "mimetype": "text/x-python",
   "name": "python",
   "nbconvert_exporter": "python",
   "pygments_lexer": "ipython3",
   "version": "3.13.1"
  }
 },
 "nbformat": 4,
 "nbformat_minor": 2
}
